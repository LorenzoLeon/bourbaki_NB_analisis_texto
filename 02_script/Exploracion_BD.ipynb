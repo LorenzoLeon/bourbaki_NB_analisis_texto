{
  "nbformat": 4,
  "nbformat_minor": 0,
  "metadata": {
    "colab": {
      "name": "Exploracion BD.ipynb",
      "provenance": [],
      "collapsed_sections": [],
      "include_colab_link": true
    },
    "kernelspec": {
      "name": "python3",
      "display_name": "Python 3"
    },
    "language_info": {
      "name": "python"
    }
  },
  "cells": [
    {
      "cell_type": "markdown",
      "metadata": {
        "id": "view-in-github",
        "colab_type": "text"
      },
      "source": [
        "<a href=\"https://colab.research.google.com/github/LorenzoLeon/bourbaki_NB_analisis_texto/blob/main/02_script/Exploracion_BD.ipynb\" target=\"_parent\"><img src=\"https://colab.research.google.com/assets/colab-badge.svg\" alt=\"Open In Colab\"/></a>"
      ]
    },
    {
      "cell_type": "markdown",
      "metadata": {
        "id": "M1v7vPYbgC9s"
      },
      "source": [
        "Los paquetes a usar. Vienen con bibliotecas simples para descargar objetos y bases de datos útiles"
      ]
    },
    {
      "cell_type": "code",
      "metadata": {
        "id": "uUFf-6V_ggY3",
        "colab": {
          "base_uri": "https://localhost:8080/"
        },
        "outputId": "c9df3cd4-f9a3-4f54-a113-24d62f866fe4"
      },
      "source": [
        "!pip3 install pickle5\n",
        "import pickle5 as pickle\n",
        "import pandas as pd\n",
        "# Visualización\n",
        "import matplotlib.pyplot as plt\n",
        "import matplotlib\n",
        "from wordcloud import WordCloud\n",
        "\n",
        "#Aquí copiamos las bases de datos a nuestro directorio en la nube\n",
        "! git clone https://github.com/LorenzoLeon/bourbaki_NB_analisis_texto.git"
      ],
      "execution_count": 1,
      "outputs": [
        {
          "output_type": "stream",
          "text": [
            "Collecting pickle5\n",
            "\u001b[?25l  Downloading https://files.pythonhosted.org/packages/f7/4c/5c4dd0462c8d3a6bc4af500a6af240763c2ebd1efdc736fc2c946d44b70a/pickle5-0.0.11.tar.gz (132kB)\n",
            "\r\u001b[K     |██▌                             | 10kB 19.3MB/s eta 0:00:01\r\u001b[K     |█████                           | 20kB 18.2MB/s eta 0:00:01\r\u001b[K     |███████▍                        | 30kB 14.6MB/s eta 0:00:01\r\u001b[K     |██████████                      | 40kB 14.1MB/s eta 0:00:01\r\u001b[K     |████████████▍                   | 51kB 15.3MB/s eta 0:00:01\r\u001b[K     |██████████████▉                 | 61kB 14.6MB/s eta 0:00:01\r\u001b[K     |█████████████████▍              | 71kB 13.4MB/s eta 0:00:01\r\u001b[K     |███████████████████▉            | 81kB 14.6MB/s eta 0:00:01\r\u001b[K     |██████████████████████▎         | 92kB 12.8MB/s eta 0:00:01\r\u001b[K     |████████████████████████▉       | 102kB 12.3MB/s eta 0:00:01\r\u001b[K     |███████████████████████████▎    | 112kB 12.3MB/s eta 0:00:01\r\u001b[K     |█████████████████████████████▊  | 122kB 12.3MB/s eta 0:00:01\r\u001b[K     |████████████████████████████████| 133kB 12.3MB/s \n",
            "\u001b[?25hBuilding wheels for collected packages: pickle5\n",
            "  Building wheel for pickle5 (setup.py) ... \u001b[?25l\u001b[?25hdone\n",
            "  Created wheel for pickle5: filename=pickle5-0.0.11-cp37-cp37m-linux_x86_64.whl size=219248 sha256=5995b8ab043d3523f16f06a2518e982e9d5eb75aed9ed0f7270752d6089a6e76\n",
            "  Stored in directory: /root/.cache/pip/wheels/a6/90/95/f889ca4aa8b0e0c7f21c8470b6f5d6032f0390a3a141a9a3bd\n",
            "Successfully built pickle5\n",
            "Installing collected packages: pickle5\n",
            "Successfully installed pickle5-0.0.11\n",
            "Cloning into 'bourbaki_NB_analisis_texto'...\n",
            "remote: Enumerating objects: 20, done.\u001b[K\n",
            "remote: Counting objects: 100% (20/20), done.\u001b[K\n",
            "remote: Compressing objects: 100% (18/18), done.\u001b[K\n",
            "remote: Total 20 (delta 4), reused 14 (delta 1), pack-reused 0\u001b[K\n",
            "Unpacking objects: 100% (20/20), done.\n"
          ],
          "name": "stdout"
        }
      ]
    },
    {
      "cell_type": "markdown",
      "metadata": {
        "id": "3ivGb0pMh2Z-"
      },
      "source": [
        "Primero, abramos una base de datos. Hoy vamos a utilizar una lista de tweets mexicanos que usaron el hashtag #covid (o derivados). Estos tweets fueron recopilados directamente desde Twitter.\n",
        "Por ahora, este archivo es un pickle, o un objeto de python que alguien ya formó (yo) y que guardó para su fácil carga. \n",
        "Ustedes solo tendrán que leer el archivo, e inmediatamente tendrán un objeto formato base de datos de Pandas."
      ]
    },
    {
      "cell_type": "code",
      "metadata": {
        "id": "YC9uQwzwiKI6"
      },
      "source": [
        "tweets_covid = pd.read_pickle('bourbaki_NB_analisis_texto/01_datos/tweets_small.pickle')"
      ],
      "execution_count": 137,
      "outputs": []
    },
    {
      "cell_type": "markdown",
      "metadata": {
        "id": "Xqd5MWpWpKMT"
      },
      "source": [
        "¿Qué tiene esta base de datos?\n",
        "Cómo es pandas, podemos acceder a las columnas o filas de la base de datos fácilmente."
      ]
    },
    {
      "cell_type": "code",
      "metadata": {
        "colab": {
          "base_uri": "https://localhost:8080/"
        },
        "id": "nIV3Yx9QcoKc",
        "outputId": "ab417698-8f33-4b68-de94-2699c009b3f3"
      },
      "source": [
        "len(tweets_covid)"
      ],
      "execution_count": 138,
      "outputs": [
        {
          "output_type": "execute_result",
          "data": {
            "text/plain": [
              "22000"
            ]
          },
          "metadata": {
            "tags": []
          },
          "execution_count": 138
        }
      ]
    },
    {
      "cell_type": "code",
      "metadata": {
        "colab": {
          "base_uri": "https://localhost:8080/"
        },
        "id": "eeFqP0hvYw1m",
        "outputId": "168f47a2-36fb-49ed-a14e-174cfb11b64a"
      },
      "source": [
        "tweets_covid.dtypes"
      ],
      "execution_count": 139,
      "outputs": [
        {
          "output_type": "execute_result",
          "data": {
            "text/plain": [
              "id_str              int64\n",
              "text               object\n",
              "mentions           object\n",
              "hashes             object\n",
              "user_name          object\n",
              "retweeted           int64\n",
              "inreply           float64\n",
              "user_followers      int64\n",
              "fecha              object\n",
              "type               object\n",
              "value               int64\n",
              "value2              int64\n",
              "dtype: object"
            ]
          },
          "metadata": {
            "tags": []
          },
          "execution_count": 139
        }
      ]
    },
    {
      "cell_type": "code",
      "metadata": {
        "colab": {
          "base_uri": "https://localhost:8080/",
          "height": 35
        },
        "id": "nPa2_xfiea4H",
        "outputId": "8def7fd4-4a0e-4e11-c64d-214b1cab6516"
      },
      "source": [
        "tweets_covid[\"fecha\"][139]"
      ],
      "execution_count": 140,
      "outputs": [
        {
          "output_type": "execute_result",
          "data": {
            "application/vnd.google.colaboratory.intrinsic+json": {
              "type": "string"
            },
            "text/plain": [
              "'2020-11-26T00:32:20Z'"
            ]
          },
          "metadata": {
            "tags": []
          },
          "execution_count": 140
        }
      ]
    },
    {
      "cell_type": "code",
      "metadata": {
        "colab": {
          "base_uri": "https://localhost:8080/"
        },
        "id": "XNDWvLkid7cW",
        "outputId": "42a7ac46-9d63-48f2-bee8-8823bbe42fee"
      },
      "source": [
        "tweets_covid[\"fecha\"]= pd.DatetimeIndex(tweets_covid['fecha']).tz_convert(\"America/Mexico_City\")\n",
        "tweets_covid[\"fecha\"][139]"
      ],
      "execution_count": 141,
      "outputs": [
        {
          "output_type": "execute_result",
          "data": {
            "text/plain": [
              "Timestamp('2020-11-25 18:32:20-0600', tz='America/Mexico_City')"
            ]
          },
          "metadata": {
            "tags": []
          },
          "execution_count": 141
        }
      ]
    },
    {
      "cell_type": "code",
      "metadata": {
        "colab": {
          "base_uri": "https://localhost:8080/"
        },
        "id": "k0fHWwYSg78T",
        "outputId": "71f04b14-14b3-4dd7-e378-e34b0747449c"
      },
      "source": [
        "tweets_covid.fecha.describe(datetime_is_numeric=True)"
      ],
      "execution_count": 142,
      "outputs": [
        {
          "output_type": "execute_result",
          "data": {
            "text/plain": [
              "count                                  21999\n",
              "mean     2020-11-19 23:37:22.465826304-06:00\n",
              "min                2020-07-16 02:16:51-05:00\n",
              "25%                2020-08-27 09:29:19-05:00\n",
              "50%                2020-12-01 07:46:21-06:00\n",
              "75%                2021-01-25 22:34:50-06:00\n",
              "max                2021-04-05 15:51:43-05:00\n",
              "Name: fecha, dtype: object"
            ]
          },
          "metadata": {
            "tags": []
          },
          "execution_count": 142
        }
      ]
    },
    {
      "cell_type": "code",
      "metadata": {
        "colab": {
          "base_uri": "https://localhost:8080/"
        },
        "id": "MtnDyIXrcFZX",
        "outputId": "15fd00b3-fb8e-4621-c75d-fa8acd3266cc"
      },
      "source": [
        "tweets_covid['type'] = tweets_covid['type'].astype('category')\n",
        "tweets_covid.value2.describe()"
      ],
      "execution_count": 143,
      "outputs": [
        {
          "output_type": "execute_result",
          "data": {
            "text/plain": [
              "count    22000.000000\n",
              "mean         0.000000\n",
              "std          1.000023\n",
              "min         -1.000000\n",
              "25%         -1.000000\n",
              "50%          0.000000\n",
              "75%          1.000000\n",
              "max          1.000000\n",
              "Name: value2, dtype: float64"
            ]
          },
          "metadata": {
            "tags": []
          },
          "execution_count": 143
        }
      ]
    },
    {
      "cell_type": "markdown",
      "metadata": {
        "id": "2H2uxpAvYzJn"
      },
      "source": [
        "Aquí podemos ver fácilmente las primeras 5 entradas en nuestra base de datos."
      ]
    },
    {
      "cell_type": "code",
      "metadata": {
        "colab": {
          "base_uri": "https://localhost:8080/",
          "height": 374
        },
        "id": "tpdxtxEtTnwe",
        "outputId": "4d0a5d3d-4e46-4b86-e782-3eeb68551701"
      },
      "source": [
        "tweets_covid.sort_index().head()"
      ],
      "execution_count": 144,
      "outputs": [
        {
          "output_type": "execute_result",
          "data": {
            "text/html": [
              "<div>\n",
              "<style scoped>\n",
              "    .dataframe tbody tr th:only-of-type {\n",
              "        vertical-align: middle;\n",
              "    }\n",
              "\n",
              "    .dataframe tbody tr th {\n",
              "        vertical-align: top;\n",
              "    }\n",
              "\n",
              "    .dataframe thead th {\n",
              "        text-align: right;\n",
              "    }\n",
              "</style>\n",
              "<table border=\"1\" class=\"dataframe\">\n",
              "  <thead>\n",
              "    <tr style=\"text-align: right;\">\n",
              "      <th></th>\n",
              "      <th>id_str</th>\n",
              "      <th>text</th>\n",
              "      <th>mentions</th>\n",
              "      <th>hashes</th>\n",
              "      <th>user_name</th>\n",
              "      <th>retweeted</th>\n",
              "      <th>inreply</th>\n",
              "      <th>user_followers</th>\n",
              "      <th>fecha</th>\n",
              "      <th>type</th>\n",
              "      <th>value</th>\n",
              "      <th>value2</th>\n",
              "    </tr>\n",
              "  </thead>\n",
              "  <tbody>\n",
              "    <tr>\n",
              "      <th>69</th>\n",
              "      <td>1331766676082155520</td>\n",
              "      <td>@h43226013 @Claudiashein Y cuántos niños mexic...</td>\n",
              "      <td>@h43226013, @Claudiashein</td>\n",
              "      <td>#GobiernoCriminalyCorrupto, #ElPeorGobiernoDeL...</td>\n",
              "      <td>h43226013</td>\n",
              "      <td>1</td>\n",
              "      <td>NaN</td>\n",
              "      <td>1351</td>\n",
              "      <td>2020-11-25 18:08:13-06:00</td>\n",
              "      <td>negative</td>\n",
              "      <td>99</td>\n",
              "      <td>-1</td>\n",
              "    </tr>\n",
              "    <tr>\n",
              "      <th>139</th>\n",
              "      <td>1331772748134281220</td>\n",
              "      <td>? #ÚLTIMAHORA | Por SEGUNDO día consecutivo, s...</td>\n",
              "      <td>@lopezobrador_, @HLGatell</td>\n",
              "      <td>#ÚLTIMAHORA, #Covid_19, #México</td>\n",
              "      <td>MaryTeTe31</td>\n",
              "      <td>1</td>\n",
              "      <td>NaN</td>\n",
              "      <td>351</td>\n",
              "      <td>2020-11-25 18:32:20-06:00</td>\n",
              "      <td>positive</td>\n",
              "      <td>88</td>\n",
              "      <td>1</td>\n",
              "    </tr>\n",
              "    <tr>\n",
              "      <th>218</th>\n",
              "      <td>1331780180260622336</td>\n",
              "      <td>Reconoce el Subsecretario de Salud @HLGatell l...</td>\n",
              "      <td>@HLGatell</td>\n",
              "      <td>NaN</td>\n",
              "      <td>Micheguti</td>\n",
              "      <td>1</td>\n",
              "      <td>NaN</td>\n",
              "      <td>90</td>\n",
              "      <td>2020-11-25 19:01:52-06:00</td>\n",
              "      <td>positive</td>\n",
              "      <td>60</td>\n",
              "      <td>1</td>\n",
              "    </tr>\n",
              "    <tr>\n",
              "      <th>307</th>\n",
              "      <td>1331788520436936704</td>\n",
              "      <td>@Claudiashein Como jodes con Maradona.  Y los ...</td>\n",
              "      <td>@Claudiashein</td>\n",
              "      <td>NaN</td>\n",
              "      <td>Albertus2021</td>\n",
              "      <td>0</td>\n",
              "      <td>1.331724e+18</td>\n",
              "      <td>516</td>\n",
              "      <td>2020-11-25 19:35:01-06:00</td>\n",
              "      <td>negative</td>\n",
              "      <td>100</td>\n",
              "      <td>-1</td>\n",
              "    </tr>\n",
              "    <tr>\n",
              "      <th>319</th>\n",
              "      <td>1331790707451965441</td>\n",
              "      <td>Reconoce el Subsecretario de Salud @HLGatell l...</td>\n",
              "      <td>@HLGatell</td>\n",
              "      <td>NaN</td>\n",
              "      <td>IDEY_oficial</td>\n",
              "      <td>1</td>\n",
              "      <td>NaN</td>\n",
              "      <td>4996</td>\n",
              "      <td>2020-11-25 19:43:42-06:00</td>\n",
              "      <td>positive</td>\n",
              "      <td>60</td>\n",
              "      <td>1</td>\n",
              "    </tr>\n",
              "  </tbody>\n",
              "</table>\n",
              "</div>"
            ],
            "text/plain": [
              "                  id_str  ... value2\n",
              "69   1331766676082155520  ...     -1\n",
              "139  1331772748134281220  ...      1\n",
              "218  1331780180260622336  ...      1\n",
              "307  1331788520436936704  ...     -1\n",
              "319  1331790707451965441  ...      1\n",
              "\n",
              "[5 rows x 12 columns]"
            ]
          },
          "metadata": {
            "tags": []
          },
          "execution_count": 144
        }
      ]
    },
    {
      "cell_type": "code",
      "metadata": {
        "colab": {
          "base_uri": "https://localhost:8080/"
        },
        "id": "iVGfqXXZh3k_",
        "outputId": "9a00aac5-4a40-4432-ba1b-7859a45476c1"
      },
      "source": [
        "tweets_covid.hashes = tweets_covid.hashes.astype(str)\n",
        "\n",
        "hashes = tweets_covid.hashes[tweets_covid.hashes != \"nan\"]\n",
        "\n",
        "hashes.str.split(\", \",expand=True).stack().value_counts().head(30)"
      ],
      "execution_count": 145,
      "outputs": [
        {
          "output_type": "execute_result",
          "data": {
            "text/plain": [
              "#COVID19                    4610\n",
              "#Covid_19                    888\n",
              "#Covid_19mx                  829\n",
              "#Covid19                     807\n",
              "#COVIDー19                    471\n",
              "#COVID19mx                   405\n",
              "#COVID                       355\n",
              "#CuidemosTodosDeTodos        286\n",
              "#QuedateEnCasa               283\n",
              "#coronavirus                 278\n",
              "#COVID__19                   273\n",
              "#México                      269\n",
              "#VacunaCOVID19               266\n",
              "#QuédateEnCasa               251\n",
              "#Covid                       248\n",
              "#CovidDerrotaAPuebla         243\n",
              "#UsaCubrebocas               228\n",
              "#Oaxaca                      212\n",
              "#CDMX                        197\n",
              "#Edoméx                      181\n",
              "#SputnikV                    166\n",
              "#Reto40xOax                  157\n",
              "#DoctorMuerte                147\n",
              "#SanaDistancia               142\n",
              "#PorAmorALaVida              138\n",
              "#MeCuido                     137\n",
              "#vacuna                      129\n",
              "#SuSanaDistancia             126\n",
              "#Covidiotas                  123\n",
              "#EdoméxEnSemáforoNaranja     122\n",
              "dtype: int64"
            ]
          },
          "metadata": {
            "tags": []
          },
          "execution_count": 145
        }
      ]
    },
    {
      "cell_type": "code",
      "metadata": {
        "colab": {
          "base_uri": "https://localhost:8080/"
        },
        "id": "YdQ_O0sYpOvH",
        "outputId": "084dc09e-e30b-42db-988c-11758eba70a2"
      },
      "source": [
        "for i in tweets_covid.index[:10]:\n",
        "  print(\"texto: \"  + str(tweets_covid[\"text\"][i]))\n",
        "  print(\"usuario: \" + tweets_covid[\"user_name\"][i])\n",
        "  print(\"sentimiento:\"+ tweets_covid[\"type\"][i])\n",
        "  print(\"######\")"
      ],
      "execution_count": 146,
      "outputs": [
        {
          "output_type": "stream",
          "text": [
            "texto: ?#EnVivo | Ya inicia #CruceInformativo con @YonAmador ?:\n",
            "\n",
            "??La Jefa de Gobierno, @Claudiashein, da positivo a #COVID19\n",
            "\n",
            "??@lopezobrador_ declaró tres días de luto nacional en memoria de fallecidos por la pandemia \n",
            "\n",
            "#DerechoALaInformación\n",
            "\n",
            "https://t.co/5ExdY42xus\n",
            "usuario: C21Noticias\n",
            "sentimiento:negative\n",
            "######\n",
            "texto: Por instrucción presidencial antes de volver al rojo, la @Claudiashein tiene primero que explotar todos los anaranjados posibles o llegar a 120 mil muertes por #COVIDー19 lo que ocurra primero!!\n",
            "\n",
            "#MorenaLaPandemiaDeMexico https://t.co/urPCNQAIpU\n",
            "usuario: MarioPe62068812\n",
            "sentimiento:negative\n",
            "######\n",
            "texto: @omarfayad El gobernador @OmarFayad primer donador de plasma contra el COVID-19 en #Hidalgo ,..\n",
            "usuario: TeresaC31916268\n",
            "sentimiento:negative\n",
            "######\n",
            "texto: Este video debería ser retuiteado miles de veces hasta que @HLGatell tenga pesadillas con él. Ojalá que México no olvide NUNCA lo que este @GobiernoMX de tres centavos y este individuo hizo con la crisis del COVID en 2020. https://t.co/rkdd47cqMD\n",
            "usuario: jorgejasso\n",
            "sentimiento:negative\n",
            "######\n",
            "texto: @AntonioAttolini Yo no le deseo el mal. Solo pienso que, si es verdad que está infectado de Covid-19, él se lo buscó por no acatar medidas de seguridad y sana distancia. Es igual que cualquiera de los idiotas irresponsables que estuvieron haciendo fiestas de fin de año.\n",
            "usuario: A_Galindo13\n",
            "sentimiento:negative\n",
            "######\n",
            "texto: Dice @m_ebrard que \"México llegará a tiempo a la vacuna para el Covid\"...\n",
            "\n",
            "Que significa eso?... a tiempo de que? .. van 40 mil muertos al día de hoy!.. \n",
            "\n",
            "Y pretende suceder al otro sociópata @lopezobrador_ .. eso de 'importarles la gente y no la estadística\", no se les da.\n",
            "usuario: JoseCarrillo54\n",
            "sentimiento:negative\n",
            "######\n",
            "texto: El subsecretario @HLGatell dijo que en el contexto de la pandemia de #COVIDー19 se ha presentado la #Infodemia, debido a que hay partes de la sociedad interesadas en \"cambiar la realidad a través de distorsionar la información\". https://t.co/4S3dLvA8Ir\n",
            "usuario: VillarGonz\n",
            "sentimiento:negative\n",
            "######\n",
            "texto: Hace unos días, a pesar de la prohibición de fiestas por el COVID-19, los gobernadores de:\n",
            "\n",
            "Aguascalientes\n",
            "Guanajuato\n",
            "Michoacán\n",
            "Nuevo León\n",
            "Durango (fue enfermo)\n",
            "Coahuila\n",
            "Tamaulipas \n",
            "Colima\n",
            "\n",
            "...hicieron una mega fiesta. \n",
            "\n",
            "Curioso, son los mismos que piden la renuncia de @HLGatell. https://t.co/GauKzW7UnC\n",
            "usuario: dalimp13\n",
            "sentimiento:negative\n",
            "######\n",
            "texto: @CarlaEUrenaA @almatienemiedo @LillyTellez @HLGatell Les recomiendo este articulo de la BBC sobre el manejo del covid-19  por parte de Japón.  Tiene similar número de habitantes que México. Una de la estrategia de Japón fue el \"rastreo\" de los focos de infección y aislar. Eso no se hizo en México.  https://t.co/mFUCa1VnsB\n",
            "usuario: gorilla_df\n",
            "sentimiento:negative\n",
            "######\n",
            "texto: @A__Tapia @HLGatell El hospital materno infantil de Mexicali ninguna dosis y atendemos embarazadas y recién nacidos con covid ?\n",
            "usuario: AlexLopezLopes\n",
            "sentimiento:negative\n",
            "######\n"
          ],
          "name": "stdout"
        }
      ]
    }
  ]
}