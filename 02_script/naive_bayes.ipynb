{
  "nbformat": 4,
  "nbformat_minor": 0,
  "metadata": {
    "colab": {
      "name": "naive_bayes.ipynb",
      "provenance": []
    },
    "kernelspec": {
      "name": "python3",
      "display_name": "Python 3"
    },
    "language_info": {
      "name": "python"
    }
  },
  "cells": [
    {
      "cell_type": "markdown",
      "metadata": {
        "id": "M1v7vPYbgC9s"
      },
      "source": [
        "Los paquetes a usar. Vienen con bibliotecas simples para descargar objetos y bases de datos útiles"
      ]
    },
    {
      "cell_type": "code",
      "metadata": {
        "id": "uUFf-6V_ggY3"
      },
      "source": [
        "import nltk\n",
        "\n",
        "# import all the resources for Natural Language Processing with Python\n",
        "nltk.download(\"book\")\n",
        "!pip install unidecode\n",
        "# Regex and standarization\n",
        "import re\n",
        "import unidecode\n",
        "# extra Utils\n",
        "import random\n",
        "# Dataframes\n",
        "!pip3 install pickle5\n",
        "import pickle5 as pickle\n",
        "import pandas as pd\n",
        "# Visualización\n",
        "import matplotlib.pyplot as plt\n",
        "import matplotlib\n",
        "from wordcloud import WordCloud\n",
        "# Natural Language tk\n",
        "from nltk.corpus import stopwords\n",
        "from nltk.stem import SnowballStemmer\n",
        "from nltk.tokenize import word_tokenize\n",
        "from nltk.corpus.reader import CategorizedPlaintextCorpusReader\n",
        "from nltk import FreqDist, NaiveBayesClassifier, classify\n",
        "# subir archivos\n",
        "from google.colab import files\n",
        "matplotlib.style.use('ggplot')\n",
        "pd.options.mode.chained_assignment = None\n",
        "\n",
        "#Aquí copiamos las bases de datos a nuestro directorio en la nube\n",
        "! git clone https://github.com/LorenzoLeon/bourbaki_NB_analisis_texto.git"
      ],
      "execution_count": null,
      "outputs": []
    },
    {
      "cell_type": "markdown",
      "metadata": {
        "id": "3ivGb0pMh2Z-"
      },
      "source": [
        "Primero, abramos una base de datos. Hoy vamos a utilizar una lista de tweets mexicanos que usaron el hashtag #covid (o derivados). Estos tweets fueron recopilados directamente desde Twitter."
      ]
    },
    {
      "cell_type": "code",
      "metadata": {
        "id": "YC9uQwzwiKI6"
      },
      "source": [
        "tweets_covid = pd.read_pickle('bourbaki_NB_analisis_texto/01_datos/tweets_small.pickle')\n",
        "# uploaded = files.upload()\n",
        "# tweets_covid = pd.read_pickle('tweets_small.pickle'"
      ],
      "execution_count": null,
      "outputs": []
    },
    {
      "cell_type": "code",
      "metadata": {
        "colab": {
          "base_uri": "https://localhost:8080/"
        },
        "id": "YdQ_O0sYpOvH",
        "outputId": "cf0817c8-c2d5-486e-f0a2-3fa2b1683d29"
      },
      "source": [
        "# Un ejemplo del texto dentro del tweet número 62527\n",
        "print(\"text: \" + tweets_covid[\"text\"][62527])\n",
        "print(\"user_name: \" + tweets_covid[\"user_name\"][62527])\n",
        "print(\"fecha: \" + tweets_covid[\"fecha\"][62527])\n",
        "#print(\"id_str: \" + tweets_covid[\"id_str\"][62527])"
      ],
      "execution_count": null,
      "outputs": [
        {
          "output_type": "stream",
          "text": [
            "text: Están muy activas las granjas de bots de los derrotados neoliberales\n",
            "\n",
            "Quieren embaucar incautos con su etiqueta \"Dr. Muerte\"\n",
            "\n",
            "Intentan hacernos creer que el semáforo Covid falló\n",
            "\n",
            "El semáforo no es vacuna\n",
            "\n",
            "Es un indicador\n",
            "\n",
            "La única opción viable es: \"Sana Distancia\"\n",
            "\n",
            "...no hay más\n",
            "user_name: Anacruz50923807\n",
            "fecha: 2020-12-12T21:52:10Z\n"
          ],
          "name": "stdout"
        }
      ]
    },
    {
      "cell_type": "code",
      "metadata": {
        "id": "lrc4V_Rl84oH"
      },
      "source": [
        "# Recordamos nuestra función para quitar emojis? la volveremos a usar aquí\n",
        "def deEmojify(text):\n",
        "    patron_regex = re.compile(pattern = \"[\"\n",
        "                                          u\"\\U0001F600-\\U0001F64F\"  # emoticons\n",
        "                                          u\"\\U0001F300-\\U0001F5FF\"  # símbolos & pictogramas\n",
        "                                          u\"\\U0001F680-\\U0001F6FF\"  # transporte & símbolos mapas\n",
        "                                          u\"\\U0001F1E0-\\U0001F1FF\"  # banderas0 (iOS)\n",
        "                                          u\"\\U00002500-\\U00002BEF\"  # chinese char\n",
        "                                          u\"\\U00002702-\\U000027B0\"\n",
        "                                          u\"\\U00002702-\\U000027B0\"\n",
        "                                          u\"\\U000024C2-\\U0001F251\"\n",
        "                                          u\"\\U0001f926-\\U0001f937\"\n",
        "                                          u\"\\U00010000-\\U0010ffff\"\n",
        "                                          u\"\\u2640-\\u2642\"\n",
        "                                          u\"\\u2600-\\u2B55\"\n",
        "                                          u\"\\u200d\"\n",
        "                                          u\"\\u23cf\"\n",
        "                                          u\"\\u23e9\"\n",
        "                                          u\"\\u231a\"\n",
        "                                          u\"\\ufe0f\"  # dingbats\n",
        "                                          u\"\\u3030\"\n",
        "                                          \"]+\", flags = re.UNICODE)\n",
        "    return patron_regex.sub(r'emoji ',text)"
      ],
      "execution_count": null,
      "outputs": []
    },
    {
      "cell_type": "code",
      "metadata": {
        "id": "jjQVgzRVzxjM"
      },
      "source": [
        "# Copiemos nuestra base y apliquemos los filtros y reemplazos que acabamos de crear\n",
        "tweets_covid_limpia = tweets_covid.copy()\n",
        "tweets_covid_limpia['text'] = tweets_covid_limpia['text'].apply(lambda x: deEmojify(x))\n",
        "tweets_covid_limpia['text'] = tweets_covid_limpia['text'].apply(lambda x: x.lower())\n",
        "tweets_covid_limpia['text'] = tweets_covid_limpia['text'].apply(lambda x: re.sub(r'https?:\\/\\/\\S*' , ''        , x))\n",
        "tweets_covid_limpia['text'] = tweets_covid_limpia['text'].apply(lambda x: re.sub(r'@\\S*'           , 'mencionTwitter', x))\n",
        "tweets_covid_limpia['text'] = tweets_covid_limpia['text'].apply(lambda x: re.sub(r\"[\\W_\\d]\"        , ' '       , x))\n",
        "tweets_covid_limpia['text'] = tweets_covid_limpia['text'].apply(lambda x: re.sub(r'\\s+'            , ' '       , x))\n",
        "#quitar caracteres acentuados y 'ñ's\n",
        "tweets_covid_limpia['text'] = tweets_covid_limpia['text'].apply(lambda x: unidecode.unidecode(x))"
      ],
      "execution_count": null,
      "outputs": []
    },
    {
      "cell_type": "markdown",
      "metadata": {
        "id": "r0REcM5Qx0Kz"
      },
      "source": [
        "También recuperemos nuestras palabras stop, que nos permitirán deshacernos de palabras inservibles en nuestros tweets. "
      ]
    },
    {
      "cell_type": "code",
      "metadata": {
        "id": "6G7lVSuqf-jc",
        "colab": {
          "base_uri": "https://localhost:8080/"
        },
        "outputId": "ac4c7966-3ef2-479e-edc8-996983dbc6db"
      },
      "source": [
        "stop_words_sp = set(stopwords.words('spanish'))\n",
        "stop_words_sp = stop_words_sp.union([\"mencionTwitter\", \"covid\"])\n",
        "\n",
        "print(stop_words_sp)"
      ],
      "execution_count": null,
      "outputs": [
        {
          "output_type": "stream",
          "text": [
            "{'tendríamos', 'tuya', 'habremos', 'soy', 'hubieran', 'tuvo', 'tenido', 'habida', 'del', 'suyo', 'seas', 'quienes', 'tuviste', 'seríamos', 'será', 'esto', 'erais', 'sintiendo', 'fuisteis', 'fuera', 'somos', 'nuestro', 'están', 'estarías', 'tuyos', 'el', 'tuvieses', 'tuvieras', 'hube', 'a', 'habíamos', 'sentidos', 'estuvimos', 'antes', 'estuviste', 'en', 'nada', 'estarán', 'hubiste', 'haya', 'sí', 'hubieron', 'habíais', 'hubimos', 'serían', 'estabais', 'han', 'habrías', 'estarás', 'estoy', 'estad', 'sentida', 'estuviesen', 'donde', 'tendrán', 'has', 'que', 'estos', 'teníamos', 'hubiera', 'ya', 'estuvieras', 'habidas', 'la', 'uno', 'tendrá', 'habrían', 'mucho', 'tuviera', 'mía', 'todos', 'muchos', 'nosotras', 'estaríais', 'estaréis', 'como', 'tengamos', 'son', 'esas', 'seáis', 'tuvieseis', 'tuvisteis', 'hubo', 'habrá', 'habréis', 'habríais', 'tuvierais', 'serías', 'hemos', 'serás', 'les', 'tenemos', 'habré', 'tendré', 'estuvieseis', 'y', 'desde', 'está', 'tuvieran', 'para', 'tendrías', 'tenidos', 'hasta', 'yo', 'una', 'fue', 'esos', 'fuerais', 'fuese', 'suyas', 'tuyo', 'todo', 'un', 'estuvieses', 'nuestras', 'esté', 'tienen', 'unos', 'hubiésemos', 'habido', 'muy', 'estuvieran', 'tuviesen', 'estadas', 'habríamos', 'es', 'mías', 'fuiste', 'tenida', 'por', 'había', 'tienes', 'fui', 'lo', 'contra', 'estaba', 'éramos', 'fueseis', 'tened', 'ti', 'esta', 'algunas', 'seréis', 'hayan', 'estaríamos', 'eran', 'fueses', 'estaré', 'estábamos', 'covid', 'hubieses', 'estás', 'su', 'ellas', 'estén', 'habían', 'estuvisteis', 'estemos', 'estará', 'mencionTwitter', 'tendremos', 'otro', 'estés', 'tenían', 'ni', 'estados', 'o', 'estabas', 'entre', 'estuviésemos', 'estarían', 'sois', 'os', 'algo', 'otras', 'sus', 'habiendo', 'tengas', 'mí', 'tu', 'tendríais', 'hayas', 'era', 'al', 'porque', 'ellos', 'suyos', 'tengáis', 'no', 'esa', 'eso', 'mis', 'vosotros', 'fuesen', 'estaría', 'estas', 'hubieras', 'tenías', 'tuyas', 'sentidas', 'este', 'habéis', 'tuviese', 'cuando', 'quien', 'estuvierais', 'habrás', 'poco', 'algunos', 'sin', 'estéis', 'seré', 'habidos', 'suya', 'tiene', 'sentido', 'se', 'fuésemos', 'seremos', 'te', 'ha', 'eres', 'sobre', 'habrán', 'sería', 'eras', 'tuviésemos', 'estuviera', 'vuestras', 'tenidas', 'estada', 'hubiéramos', 'más', 'e', 'estado', 'estuve', 'vuestro', 'vuestros', 'también', 'fueras', 'seríais', 'cual', 'míos', 'tengan', 'hubierais', 'ese', 'tuviéramos', 'estuvo', 'tuvimos', 'mi', 'los', 'serán', 'nosotros', 'teníais', 'tuvieron', 'de', 'mío', 'estuviese', 'tus', 'vosotras', 'fuimos', 'me', 'estáis', 'he', 'estaremos', 'estamos', 'sea', 'hayamos', 'hubisteis', 'habías', 'fuéramos', 'pero', 'tenga', 'hay', 'tengo', 'con', 'tendría', 'estuviéramos', 'hubiese', 'tendrían', 'otros', 'estar', 'tanto', 'nos', 'estuvieron', 'fueron', 'hubiesen', 'siente', 'sean', 'ante', 'estando', 'tendrás', 'teniendo', 'ella', 'otra', 'vuestra', 'durante', 'habría', 'nuestra', 'estaban', 'tenía', 'nuestros', 'las', 'él', 'qué', 'fueran', 'sentid', 'tendréis', 'hubieseis', 'tú', 'le', 'seamos', 'hayáis', 'tenéis', 'tuve'}\n"
          ],
          "name": "stdout"
        }
      ]
    },
    {
      "cell_type": "markdown",
      "metadata": {
        "id": "0C3xYgwF-Yb6"
      },
      "source": [
        "Creémos nuestro diccionario de las palabras que aparecen en nuestros tweets."
      ]
    },
    {
      "cell_type": "code",
      "metadata": {
        "colab": {
          "base_uri": "https://localhost:8080/"
        },
        "id": "yi0O2o2Q-hZW",
        "outputId": "6658713e-0d8c-495d-8f59-99b97fa8751b"
      },
      "source": [
        "todas_las_palabras = []\n",
        "for fila in tweets_covid_limpia[\"text\"]:\n",
        "    # for w in word_tokenize(unidecode.unidecode(fila), language=\"spanish\"): # quitando acentos\n",
        "    for w in word_tokenize(fila, language=\"spanish\"):  # sin quitar acentos\n",
        "        if w not in stop_words_sp:\n",
        "            todas_las_palabras.append(w)\n",
        "# nltk nos permite transformar una lista de palabras repetidas en una lista de frequencias de palabras.\n",
        "todas_las_palabras = FreqDist(todas_las_palabras)\n",
        "# ahora visualizamos las 15 más comunes y sus frecuencias\n",
        "print(todas_las_palabras.most_common(15))\n",
        "# Así, podemos guardar las 5000 palabras más utilizadas en nuestro corpus de tweets\n",
        "palabras_caracteristicas = list(todas_las_palabras.keys())[:5000]"
      ],
      "execution_count": null,
      "outputs": [
        {
          "output_type": "stream",
          "text": [
            "[('mexico', 3794), ('mas', 3680), ('emoji', 3625), ('salud', 2683), ('distancia', 2582), ('sana', 2419), ('cubrebocas', 2382), ('pandemia', 2210), ('si', 2149), ('mil', 2143), ('gracias', 1906), ('hoy', 1900), ('gobernador', 1869), ('muertes', 1789), ('vacuna', 1762)]\n"
          ],
          "name": "stdout"
        }
      ]
    },
    {
      "cell_type": "markdown",
      "metadata": {
        "id": "20eceAvOAs09"
      },
      "source": [
        "Ahora vamos a organizar nuestros tweets en una lista con categorías, donde por un lado tengamos una lista de palabras dentro del tweet, y del otro, el sentimiento del tweet."
      ]
    },
    {
      "cell_type": "code",
      "metadata": {
        "id": "TG3QVgDQA4n9"
      },
      "source": [
        "corpus = [(list(word_tokenize(text, language=\"spanish\")), sentiment)\n",
        "                 for sentiment, text in zip(tweets_covid_limpia[\"type\"], tweets_covid_limpia[\"text\"])]\n",
        "# Así podemos además revolverlo para garantizar que no preferimos ningún tipo de tweet\n",
        "random.shuffle(corpus)"
      ],
      "execution_count": null,
      "outputs": []
    },
    {
      "cell_type": "markdown",
      "metadata": {
        "id": "HfjwgCMYBlBh"
      },
      "source": [
        "Para poder procesar nuestro tweet, necesitamos que, en vez de las palabras, nos diga cuáles de las palabras de nuestro diccionario contiene. La siguiente función transforma las palabras en columnas de palabras caracteristicas o \"features\"."
      ]
    },
    {
      "cell_type": "code",
      "metadata": {
        "id": "En4X2CUsBkN6"
      },
      "source": [
        "def buscar_caracteristicas(document):\n",
        "    palabras = set(document)\n",
        "    caracteristicas = {}\n",
        "    for w in palabras_caracteristicas:\n",
        "        caracteristicas[w] = (w in palabras)\n",
        "    return caracteristicas"
      ],
      "execution_count": null,
      "outputs": []
    },
    {
      "cell_type": "code",
      "metadata": {
        "colab": {
          "base_uri": "https://localhost:8080/"
        },
        "id": "EvMKweLnCIyx",
        "outputId": "bdf5cb98-0890-4192-a924-6373294a9b67"
      },
      "source": [
        "text, sentiment = corpus[1]\n",
        "carac = buscar_caracteristicas(text)\n",
        "print(carac)"
      ],
      "execution_count": null,
      "outputs": [
        {
          "output_type": "stream",
          "text": [
            "{'envivo': False, 'inicia': False, 'cruceinformativo': False, 'jefa': False, 'gobierno': False, 'da': False, 'positivo': False, 'declaro': False, 'tres': False, 'dias': False, 'luto': False, 'nacional': False, 'memoria': False, 'fallecidos': False, 'pandemia': False, 'derechoalainformacion': False, 'instruccion': False, 'presidencial': False, 'volver': False, 'rojo': False, 'primero': False, 'explotar': False, 'anaranjados': False, 'posibles': False, 'llegar': False, 'mil': True, 'muertes': False, 'covidemoji': False, 'ocurra': False, 'morenalapandemiademexico': False, 'gobernador': False, 'primer': False, 'donador': False, 'plasma': False, 'hidalgo': False, 'video': False, 'deberia': False, 'ser': False, 'retuiteado': False, 'miles': False, 'veces': False, 'pesadillas': False, 'ojala': False, 'mexico': False, 'olvide': False, 'nunca': False, 'centavos': False, 'individuo': False, 'hizo': False, 'crisis': False, 'deseo': False, 'mal': False, 'solo': False, 'pienso': False, 'si': False, 'verdad': False, 'infectado': False, 'busco': False, 'acatar': False, 'medidas': False, 'seguridad': False, 'sana': False, 'distancia': False, 'igual': False, 'cualquiera': False, 'idiotas': False, 'irresponsables': False, 'haciendo': False, 'fiestas': False, 'fin': False, 'ano': False, 'dice': False, 'llegara': False, 'tiempo': False, 'vacuna': False, 'significa': False, 'van': False, 'muertos': False, 'dia': False, 'hoy': False, 'pretende': False, 'suceder': False, 'sociopata': False, 'importarles': False, 'gente': False, 'estadistica': False, 'subsecretario': False, 'dijo': False, 'contexto': False, 'presentado': False, 'infodemia': False, 'debido': False, 'partes': False, 'sociedad': False, 'interesadas': False, 'cambiar': False, 'realidad': False, 'traves': False, 'distorsionar': False, 'informacion': False, 'hace': False, 'pesar': False, 'prohibicion': False, 'gobernadores': False, 'aguascalientes': False, 'guanajuato': False, 'michoacan': False, 'nuevo': False, 'leon': False, 'durango': False, 'enfermo': False, 'coahuila': False, 'tamaulipas': False, 'colima': False, 'hicieron': False, 'mega': False, 'fiesta': False, 'curioso': False, 'mismos': False, 'piden': False, 'renuncia': False, 'recomiendo': False, 'articulo': False, 'bbc': False, 'manejo': False, 'parte': False, 'japon': False, 'similar': False, 'numero': False, 'habitantes': False, 'estrategia': False, 'rastreo': False, 'focos': False, 'infeccion': False, 'aislar': False, 'hospital': False, 'materno': False, 'infantil': False, 'mexicali': False, 'ninguna': False, 'dosis': False, 'atendemos': False, 'embarazadas': False, 'recien': False, 'nacidos': False, 'emoji': False, 'asi': False, 'va': False, 'gasto': False, 'mientras': False, 'busca': False, 'mdp': False, 'federales': False, 'combatir': False, 'gastado': False, 'mas': False, 'millones': False, 'pesos': False, 'contando': False, 'cierto': False, 'reportes': False, 'aun': False, 'transparentan': False, 'detalle': False, 'compras': False, 'mty': False, 'conoce': False, 'reporte': False, 'mx': False, 'edomex': False, 'edomexensemaforonaranja': False, 'supo': False, 'hacerle': False, 'frente': False, 'paises': False, 'culpa': False, 'entendio': False, 'cinicamente': False, 'enrique': False, 'alfaro': False, 'diego': False, 'sinohue': False, 'defunciones': False, 'infectados': False, 'dr': False, 'gatell': False, 'ven': False, 'llego': False, 'momento': False, 'catastrofico': False, 'oficiales': False, 'coronavirus': True, 'oficialmente': False, 'incompetentes': False, 'negligenciacriminal': False, 'consideraba': False, 'escenario': False, 'medios': False, 'obesidad': False, 'desigualdad': False, 'situacion': False, 'registra': False, 'caso': False, 'reinfeccion': False, 'mundo': False, 'queda': False, 'claro': False, 'doctormuerte': False, 'sabia': False, 'existe': False, 'inmunidad': False, 'rebano': False, 'lopez': False, 'obrador': False, 'estan': False, 'asesinado': False, 'mexicanos': False, 'ver': False, 'cifras': False, 'mienten': False, 'peor': False, 'chaspm': False, 'calcula': False, 'cientifico': False, 'conago': False, 'promueve': False, 'gobernadora': False, 'priorizar': False, 'vacunacion': False, 'maestras': False, 'maestros': False, 'oye': False, 'paquete': False, 'obligan': False, 'repartir': False, 'medicos': False, 'pacientes': False, 'contiene': False, 'drogas': False, 'puede': False, 'aumentar': False, 'posibilidad': False, 'mueran': False, 'aparte': False, 'innecesario': False, 'usarse': False, 'atender': False, 'correctamente': False, 'ultimahora': False, 'registran': False, 'casos': False, 'contagio': False, 'confirmados': False, 'nuevas': False, 'control': False, 'ineptos': False, 'indolentes': False, 'neta': False, 'defendiendo': False, 'alguien': False, 'afirmo': False, 'presidente': False, 'inmune': False, 'fuerza': False, 'moral': False, 'jodas': False, 'ignorancia': False, 'fiel': False, 'maquinaciones': False, 'refiere': False, 'victimas': False, 'dolorosas': False, 'cuantos': False, 'podrian': False, 'adjudicar': False, 'todas': False, 'fake': False, 'news': False, 'embustes': False, 'silencios': False, 'encubrimientos': False, 'acuerdos': False, 'publicitarios': False, 'empresas': False, 'chatarra': False, 'incremento': False, 'alarmante': False, 'jalisco': False, 'advierte': False, 'podria': False, 'haber': False, 'drasticas': False, 'asesores': False, 'this': False, 'irresponsible': False, 'man': False, 'is': False, 'the': False, 'supposed': False, 'czar': False, 'in': False, 'under': False, 'his': False, 'command': False, 'my': False, 'country': False, 'occupies': False, 'one': False, 'of': False, 'first': False, 'places': False, 'death': False, 'and': False, 'contagion': False, 'work': False, 'example': False, 'are': False, 'clear': False, 'importance': False, 'gives': False, 'to': False, 'lives': False, 'mexicans': False, 'murio': False, 'excelente': False, 'medico': False, 'internista': False, 'atendia': False, 'raza': False, 'todavia': False, 'vienen': False, 'dos': False, 'pendejos': False, 'decir': False, 'domada': False, 'vayan': False, 'chinguen': False, 'madre': False, 'gracias': False, 'azucenaxmilenio': False, 'pedir': False, 'poblacion': False, 'quede': False, 'casa': False, 'cabeza': False, 'cdmx': False, 'pidio': False, 'evitar': False, 'reuniones': False, 'ocupacion': False, 'hospitalaria': False, 'sefuertemexico': False, 'depisaycorretv': False, 'dio': False, 'falsa': False, 'sensacion': False, 'sirvio': False, 'necesitaba': False, 'meses': False, 'despues': False, 'leyo': False, 'estudios': False, 'cientificos': False, 'decia': False, 'menos': False, 'letal': False, 'influenza': False, 'duplico': False, 'prevencion': False, 'promocion': False, 'salud': False, 'destaco': False, 'reduccion': False, 'sostenida': False, 'cuanto': False, 'contagios': False, 'hospitalizaciones': False, 'quinta': False, 'camas': False, 'unidades': False, 'ocupadas': False, 'puntualizo': False, 'mananera': False, 'llamado': False, 'podemos': False, 'acabo': False, 'hablo': False, 'biden': False, 'vladimir': False, 'putin': False, 'pudo': False, 'hablar': False, 'dificultades': False, 'ruso': False, 'acordara': False, 'envio': False, 'vacunas': False, 'puebla': False, 'llegan': False, 'cholula': False, 'administrativos': False, 'lista': False, 'jamas': False, 'entrado': False, 'area': False, 'amparados': False, 'vacunaran': False, 'primera': False, 'linea': False, 'prevengan': False, 'influyentismo': False, 'vez': False, 'nuevos': False, 'seguimos': False, 'inaceptable': False, 'ee': False, 'mortalidad': False, 'arriba': False, 'promedio': False, 'negligente': False, 'pasado': False, 'mayo': False, 'habria': False, 'hacemos': False, 'personas': True, 'muertas': False, 'familias': False, 'sufren': False, 'lloran': False, 'seran': False, 'suficientes': False, 'considerar': False, 'existencia': False, 'graves': False, 'errores': False, 'planteada': False, 'enfrentar': False, 'ojo': False, 'vecinos': False, 'asalto': False, 'ocurrio': False, 'julio': False, 'rio': False, 'rhin': False, 'col': False, 'cuauhtemoc': False, 'extremar': False, 'precauciones': False, 'apoyo': False, 'favor': False, 'vigilancia': False, 'zona': False, 'inseguridad': False, 'ancianas': False, 'triquis': False, 'copala': False, 'comen': False, 'maiz': False, 'falta': False, 'comida': False, 'dinero': False, 'trabajo': False, 'gubernamental': False, 'amlo': False, 'morena': False, 'tatransformacion': False, 'quedateencasa': False, 'redamlo': False, 'amlovers': False, 'oaxaca': False, 'planeo': False, 'lozoya': False, 'usarlo': False, 'tapar': False, 'shaaaa': False, 'maldito': False, 'calderoooooon': False, 'robo': False, 'tanvien': False, 'secsenio': False, 'idolo': False, 'haga': False, 'sirve': False, 'informo': False, 'decido': False, 'misma': False, 'padre': False, 'justificar': False, 'estupidez': False, 'ignorancias': False, 'caigamos': False, 'politiquerias': False, 'tanta': False, 'simpatizante': False, 'oponentes': False, 'siendo': False, 'covidiotas': False, 'asunto': False, 'egoismo': False, 'seria': False, 'aberrante': False, 'pensar': False, 'quiera': False, 'contratar': False, 'deuda': False, 'pretexto': False, 'comprar': False, 'mejor': False, 'jalisciences': False, 'alfarorenuncia': False, 'cumplen': False, 'semanas': False, 'anuncio': False, 'tenia': False, 'dicho': False, 'muchas': False, 'mentiras': False, 'convalecencia': False, 'ahora': False, 'optado': False, 'silencio': False, 'grave': False, 'reaparecido': False, 'siquiera': False, 'ahiquedaeso': False, 'senadora': False, 'denuncio': False, 'suspendidos': False, 'tratamientos': False, 'quince': False, 'mujeres': False, 'enfermas': False, 'cancer': False, 'presento': False, 'solicitud': False, 'atencion': False, 'problema': False, 'oficina': False, 'negaron': False, 'recibir': False, 'escrito': False, 'pues': False, 'ocupan': False, 'avisocovidedomex': False, 'principal': False, 'responsable': False, 'muerte': False, 'nombre': False, 'apellido': False, 'conocido': False, 'drmuerte': False, 'algun': False, 'debera': False, 'juzgado': False, 'irresponsabilidad': False, 'criminal': False, 'solapada': False, 'niunvotoamorena': False, 'lopezpesimoycorruptogobierno': False, 'twitterespanista': False, 'cortina': False, 'humo': False, 't': False, 'murieron': False, 'hablando': False, 'lamentable': False, 'consideracion': False, 'personal': False, 'labora': False, 'hospitales': False, 'totalmente': False, 'presenten': False, 'sintomas': False, 'esperar': False, 'prueba': False, 'resultado': False, 'duda': False, 'importa': False, 'vida': False, 'nadie': False, 'not': False, 's': False, 'cockpit': False, 'at': False, 'mexicos': False, 'airplane': False, 'who': False, 'every': False, 'doctor': False, 'begging': False, 'him': False, 'follow': False, 'evidence': False, 'change': False, 'course': False, 'won': False, 'ayuda': False, 'esperando': False, 'ambulancia': False, 'paciente': False, 'oxigenacion': False, 'frecuencia': False, 'cardiaca': False, 'llevamos': False, 'horas': False, 'residente': False, 'neumologia': False, 'pediatrica': False, 'pediatria': False, 'cmno': False, 'imss': False, 'vacunado': False, 'cada': False, 'muerto': False, 'reporta': False, 'causa': False, 'cifra': False, 'quiere': False, 'probablemente': False, 'superior': False, 'milmuertos': False, 'sudafrica': False, 'recuperados': False, 'alimentacion': False, 'precaria': False, 'sistema': False, 'hablas': False, 'tuxmexico': False, 'cruda': False, 'engane': False, 'cuento': False, 'vacias': False, 'vecino': False, 'ultimas': False, 'reportan': False, 'record': False, 'inicio': False, 'llamarle': False, 'fracaso': False, 'pueden': False, 'asumir': False, 'ustedes': False, 'criminales': False, 'notienenmadre': False, 'assured': False, 'public': False, 'that': False, 'was': False, 'less': False, 'deadly': False, 'than': False, 'flu': False, 'downplayed': False, 'effectiveness': False, 'urged': False, 'people': False, 'recover': False, 'avoid': False, 'saturating': False, 'theemoji': False, 'then': False, 'got': False, 'sick': False, 'checked': False, 'right': False, 'away': False, 'walked': False, 'around': False, 'w': False, 'persona': False, 'q': False, 'desgraciadamente': False, 'gobierna': False, 'poblanos': False, 'ocurrencias': False, 'recuerda': False, 'remedio': False, 'laligamitica': False, 'mueren': True, 'obreros': True, 'diversas': True, 'ocupaciones': True, 'covidderrotaapuebla': True, 'preocupante': False, 'total': False, 'tambien': False, 'totalizar': False, 'millon': False, 'realmente': False, 'duerme': False, 'tan': False, 'tranquilo': False, 'obvio': False, 'edomexensemafororojo': False, 'actualizacion': False, 'cuidemostodosdetodos': False, 'senor': False, 'tener': False, 'ocultar': False, 'robos': False, 'dar': False, 'lastima': False, 'mira': False, 'provocas': False, 'pendejo': False, 'irresponsable': False, 'recomienda': False, 'cubreboca': False, 'mismo': False, 'basta': False, 'transmision': False, 'cientos': False, 'oposicion': False, 'atacado': False, 'atacara': False, 'onu': False, 'onda': False, 'inyectar': False, 'aire': False, 'viejos': False, 'orden': False, 'sera': False, 'vacunar': False, 'varias': False, 'simulando': False, 'rinda': False, 'popularidad': False, 'seguro': False, 'viene': False, 'usted': False, 'denuncia': False, 'vaya': False, 'bote': False, 'terminando': False, 'noticias': False, 'falsas': False, 'pongale': False, 'conferencia': False, 'entiendo': False, 'enterado': False, 'nueva': False, 'cepa': False, 'cancelar': False, 'llegada': False, 'vuelos': False, 'reino': False, 'unido': False, 'pais': False, 'poner': False, 'conviene': False, 'ejemplo': False, 'letalidad': False, 'muriendo': False, 'imperdible': False, 'leer': False, 'dra': False, 'irma': False, 'aguilar': False, 'delfin': False, 'disparate': False, 'uso': False, 'combinado': False, 'diferentes': False, 'cuestiona': False, 'sabe': False, 'aprendio': False, 'primaria': False, 'comprension': False, 'lectura': False, 'lapidario': False, 'trata': False, 'filtroscovidguerrero': False, 'simulacion': False, 'contener': False, 'acapulco': False, 'gimnasios': False, 'desacatando': False, 'ley': False, 'aqui': False, 'tabla': False, 'comparativa': False, 'directo': False, 'hogares': False, 'sector': False, 'provisto': False, 'america': False, 'latina': False, 'ultimo': False, 'lugar': False, 'urge': False, 'cuidado': False, 'semafororojo': False, 'buenos': False, 'votan': False, 'medicamentos': False, 'hagan': False, 'extranjeras': False, 'nombran': False, 'isabel': False, 'arvide': False, 'consul': False, 'estambul': False, 'pemex': False, 'perdido': False, 'casi': False, 'pisa': False, 'carcel': False, 'historia': False, 'cafe': False, 'negocio': False, 'cerro': False, 'despidieron': False, 'cuidando': False, 'seres': False, 'queridos': False, 'preferimos': False, 'salir': False, 'vacaciones': False, 'pasar': False, 'solos': False, 'explico': False, 'hijos': False, 'ud': False, 'anda': False, 'playa': False, 'ten': False, 'idiota': False, 'conozcas': False, 'aprendas': False, 'mesias': False, 'profeta': False, 'sido': False, 'cuida': False, 'dejas': False, 'bruto': False, 'llegaremos': False, 'llama': False, 'etapa': False, 'alla': False, 'catastrofe': False, 'enfermeras': False, 'amenazados': False, 'so': False, 'pena': False, 'perder': False, 'puestos': False, 'derechos': False, 'jubilacion': False, 'denunciar': False, 'insumos': False, 'equipos': False, 'generales': False, 'quimios': False, 'extorsion': False, 'barbosaqueremosvacunas': False, 'queremos': False, 'protegernos': False, 'exitosa': False, 'europa': False, 'unidos': False, 'decidieron': False, 'implementar': False, 'semaforo': False, 'riesgo': False, 'epidemiologico': False, 'chismes': False, 'especulaciones': False, 'derroche': False, 'freno': False, 'estrena': False, 'autos': False, 'modelo': False, 'compro': False, 'camionetas': False, 'lujo': False, 'ahorrar': False, 'jeeps': False, 'favoritas': False, 'gober': False, 'rebelde': False, 'mintiendo': False, 'valores': False, 'siempre': False, 'huerfano': False, 'ademas': False, 'rastrera': False, 'inauguro': False, 'temporal': False, 'pastora': False, 'alcaldia': False, 'gustavo': False, 'madero': False, 'hospitalizacion': False, 'etapas': False, 'ventiladores': False, 'rendimoscuentas': False, 'miembro': False, 'asegura': False, 'hombre': False, 'izquierda': False, 'evidentemente': False, 'ultraderecha': False, 'salio': False, 'familia': False, 'culpo': False, 'tabasco': False, 'manana': False, 'quiero': False, 'imaginar': False, 'ahi': False, 'deberian': False, 'ir': False, 'centros': False, 'azcapotzalco': False, 'vean': False, 'sanadistancia': False, 'inexistente': False, 'medicmencionTwitter': False, 'viendolo': False, 'hacen': False, 'guardemos': False, 'imagen': False, 'recordemos': False, 'diciembre': False, 'flamante': False, 'usos': False, 'bienvenida': False, 'nacion': False, 'vacunacovid': False, 'vapormexico': False, 'medida': False, 'fortalecimiento': False, 'preventivo': False, 'operativo': False, 'delegaciones': False, 'reciben': False, 'gel': False, 'antibacterial': False, 'caretas': False, 'sanitizante': False, 'ira': False, 'megaboda': False, 'hija': False, 'semana': False, 'reintegro': False, 'negativo': False, 'asegurar': False, 'viernes': False, 'positiva': False, 'ayer': False, 'pequeno': False, 'antecedente': False, 'feb': False, 'contagiado': False, 'tio': False, 'enfermera': False, 'creer': False, 'vacunaron': False, 'piquete': False, 'aguja': False, 'jeringa': False, 'liquido': False, 'paso': False, 'zacatenco': False, 'compartan': False, 'sputnikv': False, 'ahhh': False, 'mames': False, 'soluciona': False, 'verga': False, 'ciudad': False, 'llevar': False, 'quieres': False, 'oracion': False, 'hazla': False, 'quite': False, 'puto': False, 'vividor': False, 'dejemos': False, 'lavado': False, 'manos': False, 'cubrebocas': False, 'ventilacion': False, 'espacios': False, 'cerrados': False, 'confirmo': False, 'positivos': False, 'agosto': False, 'senalamientos': False, 'alomia': False, 'respecto': False, 'alcanzado': False, 'meseta': False, 'datos': False, 'muestran': False, 'contrario': False, 'anterior': False, 'segundo': False, 'consecutivo': False, 'valor': False, 'maximo': False, 'tomaba': False, 'fotos': False, 'diputadas': False, 'secretario': False, 'jorge': False, 'alcocer': False, 'recibia': False, 'reclamos': False, 'regalaron': False, 'urna': False, 'cenizas': False, 'supera': False, 'motivo': False, 'dedicamos': False, 'minuto': False, 'pasmosa': False, 'indignante': False, 'inutilidad': False, 'culpables': False, 'reciente': False, 'refrescos': False, 'varios': False, 'anos': False, 'ieps': False, 'centavo': False, 'usa': False, 'presentaremos': False, 'hechos': False, 'resulten': False, 'responsables': False, 'acciones': False, 'omisiones': False, 'negligencias': False, 'desempeno': False, 'pegado': False, 'duro': False, 'debe': False, 'adquirir': False, 'pedimos': False, 'compre': False, 'preocupado': False, 'bajacalifornia': False, 'sanitaria': False, 'pueeeeeessss': False, 'pequenoacomplejado': False, 'palacio': False, 'distraer': False, 'segun': False, 'mitofsky': False, 'noticia': False, 'llamo': False, 'pio': False, 'recibiendo': False, 'trae': False, 'distractor': False, 'encarcelar': False, 'ex': False, 'presidentes': False, 'imposible': False, 'junio': False, 'contrato': False, 'asesor': False, 'matraquero': False, 'rompiendo': False, 'diario': False, 'culpable': False, 'registro': False, 'negligencia': False, 'lopezmata': False, 'morenamata': False, 'pasear': False, 'condesa': False, 'sabiendo': False, 'contagiar': False, 'sancionado': False, 'delito': False, 'estipulado': False, 'peligro': False, 'youtuber': False, 'lleva': False, 'audiencia': False, 'supuesta': False, 'anemia': False, 'grajales': False, 'prision': False, 'preventiva': False, 'faltan': False, 'tratan': False, 'cabron': False, 'grajalesyuca': False, 'metropoli': False, 'crecimiento': False, 'aseguro': False, 'presentara': False, 'plan': False, 'integral': False, 'colaboracion': False, 'federal': False, 'enterate': False, 'ep': False, 'puedas': False, 'cuidarlas': False, 'cerrando': False, 'antros': False, 'bares': False, 'cantinas': False, 'alguno': False, 'sabra': False, 'oftalmologo': False, 'veo': False, 'facebook': False, 'ofenden': False, 'viaja': False, 'labor': False, 'lucha': False, 'vs': False, 'aprobada': False, 'nivel': False, 'mundial': False, 'chingon': False, 'anunciara': False, 'noviembre': False, 'fechas': False, 'luego': False, 'mofa': False, 'secretarios': False, 'refiriendo': False, 'saben': False, 'ciudadano': False, 'encara': False, 'aeropuerto': False, 'internacional': False, 'tuxtlagutierrez': False, 'chiapas': False, 'pide': False, 'complice': False, 'visite': False, 'equipo': False, 'filtrado': False, 'presumen': False, 'iniciar': False, 'ultimos': False, 'aplicaciones': False, 'diarias': False, 'campana': False, 'gob': False, 'desastre': False, 'ineptitud': False, 'mata': False, 'twitt': False, 'habia': False, 'felicitar': False, 'sabes': False, 'ingles': False, 'ningun': False, 'felicita': False, 'pido': False, 'dejes': False, 'servil': False, 'arrastrado': False, 'ridiculo': False, 'verborrea': False, 'mientas': False, 'inteligencia': False, 'abuso': False, 'llegamos': False, 'prometida': False, 'invito': False, 'generoso': False, 'rt': False, 'columna': False, 'convertido': False, 'ejecutor': False, 'babosadas': False, 'pararrayos': False, 'elcacas': False, 'co': False, 'rresponsable': False, 'transformacionde': False, 'ta': False, 'yabasta': False, 'amanecen': False, 'notas': False, 'brutal': False, 'saldo': False, 'covidiota': False, 'rebasar': False, 'senalo': False, 'umbral': False, 'rectifica': False, 'postura': False, 'pruebas': False, 'abro': False, 'sr': False, 'responsabilidad': False, 'colabora': False, 'federacion': False, 'jaliscienses': False, 'valiente': False, 'auto': False, 'perdona': False, 'corresponsable': False, 'pos': False, 'k': False, 'revela': False, 'claramente': False, 'lopetz': False, 'obghadogh': False, 'politicas': False, 'combate': False, 'junto': False, 'esclaro': False, 'fallecio': False, 'suegro': False, 'am': False, 'naval': False, 'puerto': False, 'veracruz': False, 'hora': False, 'pm': False, 'encontrar': False, 'crematorio': False, 'cola': False, 'maneja': False, 'farsa': False, 'grales': False, 'especialidad': False, 'cuales': False, 'huelga': False, 'incumplimiento': False, 'pago': False, 'morelos': False, 'atendiendo': False, 'carta': False, 'tendenciosa': False, 'toda': False, 'instancia': False, 'correspondiente': False, 'instituto': False, 'cancerologia': False, 'tramitar': False, 'cobrando': False, 'denuestra': False, 'vale': False, 'miapoyoagatell': False, 'conferenciapresidente': False, 'lordvacuna': False, 'jose': False, 'rogel': False, 'romero': False, 'director': False, 'mateos': False, 'toluca': False, 'investigado': False, 'utilizo': False, 'unidad': False, 'militar': False, 'santa': False, 'maria': False, 'rayon': False, 'peje': False, 'construido': False, 'equipado': False, 'prefiere': False, 'trenecito': False, 'hacer': False, 'llene': False, 'bolsillos': False, 'salidas': False, 'estupidas': False, 'intentado': False, 'descabelladas': False, 'corrupcion': False, 'cientifica': False, 'respuesta': False, 'amas': False, 'paris': False, 'toque': False, 'madrid': False, 'confinamiento': False, 'londres': False, 'epidemia': False, 'dotooor': False, 'virrey': False, 'tantas': False, 'malas': False, 'violentas': False, 'economia': False, 'etc': False, 'baja': False, 'siguen': False, 'creyendo': False, 'llevara': False, 'juicio': False, 'expresidentes': False, 'acabara': False, 'aliviara': False, 'sigue': False, 'politica': False, 'fallida': False, 'perseguir': False, 'opositores': False, 'ponerse': False, 'trabajar': False, 'bajar': False, 'altos': False, 'indices': False, 'noqueremosabarbosa': False, 'cantidad': False, 'reconocen': False, 'epidemiologos': False, 'funcionarios': False, 'publicos': False, 'multiplicar': False, 'dimension': False, 'tragedia': False, 'quedate': False, 'presenta': False, 'afortunados': False, 'contagian': False, 'leves': False, 'recuperes': False, 'vuelvas': False, 'hijo': False, 'chingada': False, 'vacuno': False, 'rabia': False, 'mierdero': False, 'disculpe': False, 'st': False, 'herir': False, 'sensibilidades': False, 'exigimos': False, 'deje': False, 'morir': False, 'enfermos': False, 'sentimientos': False, 'sanas': False, 'deben': False, 'actuar': False, 'propagando': False, 'mortal': False, 'mensaje': False, 'bozal': False, 'compartida': False, 'trucha': False, 'enjabonada': False, 'enfrenta': False, 'amo': False, 'lucidos': False, 'tibieza': False, 'evidente': False, 'aca': False, 'nl': False, 'er': False, 'brote': False, 'consecuencias': False, 'debieron': False, 'corridas': False, 'menor': False, 'pasajeros': False, 'p': False, 'nd': False, 'j': False, 'zos': False, 'monumentales': False, 'rebrote': False, 'digale': False, 'existir': False, 'podido': False, 'controlar': False, 'llegando': False, 'alvmorena': False, 'hannibal': False, 'lecter': False, 'bebidas': False, 'azucaradas': False, 'comorbilidades': False, 'incrementando': False, 'propongo': False, 'boicot': False, 'distribuyen': False, 'envenenando': False, 'opinan': False, 'amigos': False, 'citando': False, 'pasa': False, 'ataques': False, 'neoliberales': False, 'renuncias': False, 'buscan': False, 'entorpecer': False, 'tema': False, 'minimo': False, 'despedir': False, 'ineficiente': False, 'televisoras': False, 'recibieron': False, 'publicidad': False, 'industria': False, 'diabetes': False, 'mismas': False, 'atacan': False, 'mayoria': False, 'tenian': False, 'hipertension': False, 'logica': False, 'perversa': False, 'realiza': False, 'experimentos': False, 'vidas': False, 'humanas': False, 'exponiendolas': False, 'partido': False, 'futbol': False, 'lavarse': False, 'culpar': False, 'darle': False, 'angel': False, 'leano': False, 'privado': False, 'justificarse': False, 'cuentan': False, 'salieron': False, 'paseo': False, 'camellon': False, 'amiga': False, 'quitarme': False, 'cuidarnos': False, 'hueva': False, 'policia': False, 'agotado': False, 'actas': False, 'defuncion': False, 'diaria': False, 'obviamente': False, 'rebasados': False, 'curva': False, 'aplanada': False, 'suenos': False, 'increible': False, 'agotaron': False, 'naciones': False, 'emprendieron': False, 'reapertura': False, 'continuos': False, 'iban': False, 'determinaron': False, 'normalidad': False, 'alza': False, 'peores': False, 'decisiones': False, 'usacubreboca': False, 'enero': False, 'residentes': False, 'esperado': False, 'aparece': False, 'confirmado': False, 'sospecha': False, 'acta': False, 'declaraciones': False, 'lado': False, 'feliz': False, 'alegre': False, 'demonios': False, 'rentabilidad': False, 'periodicos': False, 'hecho': False, 'fallecido': False, 'enfermedad': False, 'gobiernoidiota': False, 'entrego': False, 'apoyos': False, 'guias': False, 'turista': False, 'certificados': False, 'locales': False, 'santuariodelasluciernagas': False, 'programa': False, 'emergente': False, 'finalidad': False, 'reducir': False, 'impacto': False, 'enfermen': False, 'retener': False, 'especializada': False, 'pequena': False, 'minoria': False, 'decesos': False, 'enferman': False, 'reporto': False, 'alta': False, 'contestar': False, 'limito': False, 'sola': False, 'razon': False, 'matan': False, 'respetos': False, 'rebasado': False, 'ocupar': False, 'sic': False, 'morenavirus': False, 'bueno': False, 'recupero': False, 'silao': False, 'guanajuatenses': False, 'sequito': False, 'doctores': False, 'alcance': False, 'contrasta': False, 'sucedido': False, 'irapuato': False, 'pidieron': False, 'despedidos': False, 'salgas': False, 'necesario': False, 'olvides': False, 'seguir': False, 'reglas': False, 'basicas': False, 'nobajemoslaguardia': False, 'lava': False, 'cubre': False, 'nariz': False, 'boca': False, 'manten': False, 'manda': False, 'sms': False, 'palabra': False, 'laprevencionesnuestrafuerza': False, 'radaremoji': False, 'desafio': False, 'conseguir': False, 'subsecretaria': False, 'traidor': False, 'patria': False, 'cesar': False, 'mateo': False, 'digital': False, 'agendafeminista': False, 'erika': False, 'perez': False, 'tlatelolcolab': False, 'miercoles': False, 'hrs': False, 'comentocracia': False, 'anti': False, 'convirtio': False, 'dentista': False, 'guru': False, 'denostar': False, 'financian': False, 'contamos': False, 'alcanzara': False, 'pasara': False, 'pierden': False, 'empleos': False, 'inversiones': False, 'comentariofinal': False, 'cuestionarle': False, 'criticarle': False, 'asiduidad': False, 'capacidad': False, 'constancia': False, 'tristemente': False, 'recordara': False, 'renunciar': False, 'twitter': False, 'suspende': False, 'cuenta': False, 'trump': False, 'posteo': False, 'desinformacion': False, 'suspendan': False, 'desinformado': False, 'falseado': False, 'been': False, 'criticized': False, 'for': False, 'putting': False, 'politics': False, 'ahead': False, 'health': False, 'policy': False, 'during': False, 'pandemic': False, 'now': False, 'scolds': False, 'media': False, 'focusing': False, 'on': False, 'confirmed': False, 'deaths': False, 'discourse': False, 'needs': False, 'focus': False, 'real': False, 'toll': False, 'half': False, 'million': False, 'garantice': False, 'social': False, 'ecatepec': False, 'llevan': False, 'compradas': False, 'trece': False, 'indicar': False, 'vacunados': False, 'barbosainquisidor': False, 'ah': False, 'ok': False, 'azitromicina': False, 'antibiotico': False, 'enfermedades': False, 'respiratorias': False, 'ivermectrina': False, 'tambn': False, 'funciona': False, 'depositar': False, 'estomago': False, 'intestinos': False, 'medicamento': False, 'especifico': False, 'bicho': False, 'autoridades': False, 'solucionar': False, 'inmediato': False, 'desabasto': False, 'generalizado': False, 'basicos': False, 'ayudar': False, 'anticoagulantes': False, 'urgente': False, 'pelear': False, 'guerra': False, 'municiones': False, 'trabajando': False, 'extra': False, 'combatiendo': False, 'querido': False, 'desprecia': False, 'humana': False, 'peligroso': False, 'removido': False, 'derecha': False, 'saliva': False, 'amnistia': False, 'exige': False, 'alcalde': False, 'ambos': False, 'pan': False, 'investigar': False, 'sancionar': False, 'represion': False, 'buenasnoches': False, 'senal': False, 'pese': False, 'dichos': False, 'color': False, 'punto': False, 'intrascendente': False, 'difusion': False, 'fotografias': False, 'paseando': False, 'carga': False, 'viral': False, 'suficientemente': False, 'contagioso': False, 'cuestion': False, 'cosa': False, 'diferente': False, 'acumulan': False, 'mill': False, 'ignorar': False, 'minimizar': False, 'subestimar': False, 'apenas': False, 'advirtio': False, 'nula': False, 'eficacia': False, 'rapidas': False, 'contrabandeadas': False, 'rechazo': False, 'descubrimos': False, 'fundaciones': False, 'ligadas': False, 'frenaaa': False, 'legisladores': False, 'pri': False, 'comenzaron': False, 'promocionarlas': False, 'forma': False, 'masiva': False, 'gatelliana': False, 'critica': False, 'revelar': False, 'ciencia': False, 'seguirlos': False, 'produciendo': False, 'lahistoriajuzgaraaloscomplices': False, 'activas': False, 'granjas': False, 'bots': False, 'derrotados': False, 'quieren': False, 'embaucar': False, 'incautos': False, 'etiqueta': False, 'intentan': False, 'hacernos': False, 'fallo': False, 'indicador': False, 'unica': False, 'opcion': False, 'viable': False, 'funcionario': False, 'mayor': False, 'rango': False, 'cargo': False, 'acudio': False, 'restaurante': False, 'unicos': False, 'usan': False, 'trabajadores': False, 'eco': False, 'planteamiento': False, 'anuncia': False, 'sinaloa': False, 'retomar': False, 'clases': False, 'presenciales': False, 'concluir': False, 'presente': False, 'ciclo': False, 'escolar': False, 'pregunta': False, 'distribuyendo': False, 'medio': False, 'amarillo': False, 'valiendole': False, 'documentados': False, 'recursos': False, 'estatal': False, 'ampliara': False, 'vehicular': False, 'exponer': False, 'dicha': False, 'condicion': False, 'economica': False, 'derivada': False, 'contingencia': False, 'condiciones': False, 'rechazar': False, 'cerrarnos': False, 'rusa': False, 'terminado': False, 'periodo': False, 'especialistas': False, 'fracasos': False, 'analizaran': False, 'adecuadas': False, 'variante': False, 'cnn': False, 'tipico': False, 'cuatrero': False, 'soberbio': False, 'valemadrista': False, 'compromiso': False, 'congruencia': False, 'lealtad': False, 'jefe': False, 'etica': False, 'empatia': False, 'remordimientos': False, 'oh': False, 'pejidente': False, 'contagia': False, 'incompletos': False, 'reales': False, 'selecciona': False, 'periodistas': False, 'preguntar': False, 'conferencias': False, 'engancha': False, 'pone': False, 'politico': False, 'cuestione': False, 'plana': False, 'afectados': False, 'fidedignas': False, 'prefieren': False, 'temen': False, 'ves': False, 'waldosmart': False, 'respeta': False, 'protocolo': False, 'ingreso': False, 'deja': False, 'entrar': False, 'supervisa': False, 'paramos': False, 'av': False, 'semaforogate': False, 'aclare': False, 'falso': False, 'naranja': False, 'dic': False, 'permitio': False, 'descontrol': False, 'capital': False, 'atiendelapandemiashein': False, 'atiendas': False, 'inepto': False, 'provoco': False, 'domingo': False, 'generaron': False, 'oxigeno': False, 'medicinas': False, 'trabaja': False, 'inepta': False, 'devotos': False, 'anteponen': False, 'fe': False, 'rea': False, 'mentalidad': False, 'feligreses': False, 'san': False, 'judas': False, 'quieran': False, 'ruegos': False, 'conviertiran': False, 'lamentos': False, 'juditas': False, 'guadalupana': False, 'avisados': False, 'fallecimientos': False, 'multiplicarse': False, 'x': False, 'univ': False, 'berlin': False, 'osea': False, 'aprox': False, 'gatellnotienesmadre': False, 'pediatras': False, 'companeros': False, 'mios': False, 'internados': False, 'recibiremos': False, 'ciudadanos': False, 'olimpiadas': False, 'fueragatell': False, 'largateyadrmuerte': False, 'desbordo': False, 'dengue': False, 'parecer': False, 'receta': False, 'infomercialera': False, 'exsecretario': False, 'chertorivski': False, 'pura': False, 'grilla': False, 'federalista': False, 'importante': False, 'escandalo': False, 'pedorro': False, 'patrocinado': False, 'ninos': False, 'dueles': False, 'credulo': False, 'carajo': False, 'indigna': False, 'concierto': False, 'masivo': False, 'asistieron': False, 'evento': False, 'hablamos': False, 'abrelosojos': False, 'donacion': False, 'dolares': False, 'incluye': False, 'migrantes': False, 'frontera': False, 'norte': False, 'general': False, 'consulta': False, 'privada': False, 'desafortunadamente': False, 'inicios': False, 'febrero': False, 'sufrir': False, 'repudio': False, 'encuestaelheraldo': False, 'i': False, 'mandatario': False, 'tomado': False, 'tlax': False, 'camp': False, 'nay': False, 'diputado': False, 'sergio': False, 'mayer': False, 'pedira': False, 'comparecencia': False, 'personales': False, 'diputados': False, 'prian': False, 'empleados': False, 'aplaudiendole': False, 'informe': False, 'olvidandose': False, 'desapariciones': False, 'represiones': False, 'jovenes': False, 'evitables': False, 'inevitables': False, 'entonces': False, 'suerte': False, 'fatalidad': False, 'formas': False, 'revista': False, 'medica': False, 'publico': False, 'nota': False, 'ligada': False, 'precarias': False, 'region': False, 'mixteca': False, 'mantenemos': False, 'sanitizacion': False, 'mitigar': False, 'propagacion': False, 'justo': False, 'estabamos': False, 'alcanzar': False, 'triplicamos': False, 'catastrofica': False, 'decimos': False, 'cubo': False, 'bienvenidos': False, 'infierno': False, 'tiempos': False, 'eficaz': False, 'implementado': False, 'barbosa': False, 'contagiandose': False, 'muriendose': False, 'indiferencia': False, 'queinvestiguenabarbosa': False, 'demeritan': False, 'epidemiologo': False, 'aplauden': False, 'laurie': False, 'ximene': False, 'fyvie': False, 'odontologa': False, 'hacerles': False, 'sencilla': False, 'llamarian': False, 'imagino': False, 'daran': False, 'libro': False, 'acaba': False, 'buen': False, 'esposo': False, 'malditos': False, 'habla': False, 'insiste': False, 'vendernos': False, 'idea': False, 'eficiencia': False, 'mide': False, 'disponibles': False, 'quedo': False, 'medicina': False, 'obligatorio': False, 'sube': False, 'cataloga': False, 'haria': False, 'alma': False, 'corazon': False, 'llora': False, 'conservo': False, 'integridad': False, 'reconocer': False, 'administracion': False, 'respeto': False, 'vi': False, 'espectaculares': False, 'decian': False, 'jabon': False, 'tapabocas': False, 'parece': False, 'mandaran': False, 'ahorrado': False, 'comoanilloaldedo': False, 'existen': False, 'areas': False, 'realizaron': False, 'saliendo': False, 'servian': False, 'distribuirlas': False, 'lleno': False, 'imparables': False, 'cambio': False, 'espacio': False, 'excusas': False, 'primerolasalud': False, 'local': False, 'tardia': False, 'tibia': False, 'desorientada': False, 'reaccion': False, 'murat': False, 'mc': False, 'ricardo': False, 'coronado': False, 'sangines': False, 'coordinador': False, 'comision': False, 'operativa': False, 'amlocorruptomafioso': False, 'simple': False, 'sencillamente': False, 'pudieron': False, 'soberbia': False, 'termino': False, 'hundirlos': False, 'urnas': False, 'lamentables': False, 'cobradas': False, 'lopezalpenal': False, 'golpe': False, 'timon': False, 'luces': False, 'fallado': False, 'dijeron': False, 'presentaron': False, 'puntos': False, 'respondio': False, 'permanecera': False, 'aislada': False, 'espera': False, 'resultados': False, 'noticiasparadespertar': False, 'bar': False, 'zapopan': False, 'restricciones': False, 'sanitarias': False, 'llamados': False, 'chumel': False, 'avion': False, 'rifo': False, 'deschamps': False, 'funcionando': False, 'medalla': False, 'belisario': False, 'dominguez': False, 'tendra': False, 'otorgarse': False, 'reconocimiento': False, 'gt': False, 'evr': False, 'asesino': False, 'genocida': False, 'comprobado': False, 'qpm': False, 'premiar': False, 'corruptos': False, 'prioritaria': False, 'muestra': False, 'ello': False, 'abandono': False, 'indigenas': False, 'filomeno': False, 'claman': False, 'salvar': False, 'veracruznoprogresa': False, 'ana': False, 'lucia': False, 'garza': False, 'dando': False, 'quitandose': False, 'contraste': False, 'andar': False, 'calle': False, 'paseara': False, 'legislador': False, 'propondra': False, 'camara': False, 'irrumpido': False, 'lamentamos': False, 'inrremediables': False, 'liderado': False, 'rebaso': False, 'propio': False, 'oficial': False, 'estariamos': False, 'ordena': False, 'plena': False, 'veracruzsinobrapublica': False, 'comerciantes': False, 'certeza': False, 'juridica': False, 'cumplido': False, 'tramites': False, 'solicitados': False, 'atienda': False, 'necesitamos': False, 'dejo': False, 'sustento': False, 'diera': False, 'mentirosas': False, 'habrias': False, 'enfermarte': False, 'salen': False, 'burro': False, 'zopenco': False, 'ladrando': False, 'balando': False, 'asistir': False, 'cenacovid': False, 'quita': False, 'calzones': False, 'rebatir': False, 'evidencias': False, 'manipulado': False, 'puras': False, 'evasivas': False, 'cero': False, 'argumentos': False, 'tecnicos': False, 'hilo': False, 'perfilan': False, 'asesinos': False, 'referian': False, 'haremos': False, 'confirman': False, 'llegado': False, 'necesarias': False, 'tampoco': False, 'mejorado': False, 'exigirle': False, 'cara': False, 'abusos': False, 'matando': False, 'revocaciondemandato': False, 'alfarofueradejalisco': False, 'comenta': False, 'aclaro': False, 'solicitamos': False, 'firmes': False, 'costado': False, 'imparte': False, 'estatus': False, 'medicion': False, 'metodo': False, 'confiable': False, 'alternativas': False, 'confundir': False, 'temor': False, 'desesperacion': False, 'vulnerabilidad': False, 'dadas': False, 'contagiarse': False, 'incluso': False, 'entusiasmo': False, 'insensibilidad': False, 'tomar': False, 'hospitalizadas': False, 'numeros': False, 'exponenciales': False, 'siguieron': False, 'conocer': False, 'cabo': False, 'cierre': False, 'actividades': False, 'colapso': False, 'jueves': False, 'recibio': False, 'mucha': False, 'matamoros': False, 'considero': False, 'riesgoso': False, 'ciudadania': False, 'acudir': False, 'actos': False, 'reynosa': False, 'logro': False, 'contencion': False, 'morgues': False, 'rebosantes': False, 'neumonia': False, 'atipica': False, 'pasaban': False, 'servicio': False, 'forense': False, 'ninguno': False, 'morgue': False, 'mascotas': False, 'chairas': False, 'festejando': False, 'metieron': False, 'pisara': False, 'modos': False, 'festejan': False, 'pib': False, 'caida': False, 'libre': False, 'echen': False, 've': False, 'tendencia': False, 'preguntan': False, 'reporteros': False, 'fecha': False, 'sale': False, 'vidente': False, 'nostradamus': False, 'absoluta': False, 'generosidad': False, 'dedicado': False, 'sabotear': False, 'manera': False, 'constante': False, 'turistas': False, 'playas': False, 'sonora': False, 'vieja': False, 'ridicula': False, 'paralela': False, 'significan': False, 'exito': False, 'camillas': False, 'parques': False, 'decenas': False, 'circunstancia': False, 'destacada': False, 'malquerientes': False, 'subejercicio': False, 'dirian': False, 'entendidos': False, 'lerdos': False, 'llaman': False, 'alteradas': False, 'mio': False, 'hables': False, 'canciller': False, 'invaluable': False, 'madres': False, 'tirado': False, 'basura': False, 'destinarlo': False, 'pinche': False, 'delincuente': False, 'denunciaras': False, 'ja': False, 'insisto': False, 'tasas': False, 'tabaquismo': False, 'etcetera': False, 'similares': False, 'tantos': False, 'mida': False, 'pico': False, 'veneno': False, 'desinformaciones': False, 'kks': False, 'coca': False, 'reacciono': False, 'arrogancia': False, 'prepotencia': False, 'recordo': False, 'afecta': False, 'ricos': False, 'cura': False, 'mole': False, 'guajolote': False, 'enojar': False, 'den': False, 'toman': False, 'vaso': False, 'ignorante': False, 'terrible': False, 'pulqueria': False, 'alcanzo': False, 'encabeza': False, 'despertar': False, 'preocupacion': False, 'voto': False, 'tristeza': False, 'endeudo': False, 'cuyo': False, 'mentido': False, 'presumido': False, 'espejismo': False, 'cosas': False, 'puah': False, 'rico': False, 'delicioso': False, 'pozole': False, 'tostada': False, 'pata': False, 'olvidan': False, 'reportar': False, 'ponen': False, 'medidassanitarias': False, 'precautorias': False, 'danan': False, 'fisicamente': False, 'todosjuntos': False, 'cree': False, 'juguetes': False, 'transmiten': False, 'celebraba': False, 'llevaban': False, 'emocionados': False, 'sobrepasara': False, 'lanzaron': False, 'sufrimiento': False, 'mezquinos': False, 'poder': False, 'lograr': False, 'aumenten': False, 'brindado': False, 'ahijada': False, 'hermano': False, 'fallecer': False, 'anexala': False, 'duermas': False, 'bien': False, 'llegue': False, 'justicia': False, 'tocar': False, 'gatellasesino': False, 'gatellgenocida': False, 'cuidemonos': False, 'temporada': False, 'concientes': False, 'actuemos': False, 'sigamos': False, 'luchemos': False, 'juntos': False, 'concejo': False, 'avala': False, 'implementadas': False, 'debiste': False, 'regalar': False, 'holocausto': False, 'mexicano': False, 'manejado': False, 'exceso': False, 'estimar': False, 'enteren': False, 'raro': False, 'pasando': False, 'aplicacion': False, 'politizando': False, 'oaxaquenos': False, 'contenida': False, 'ligero': False, 'descenso': False, 'renunciagatell': False, 'reportecovid': False, 'ojoaldato': False, 'semaforoepidemiologico': False, 'alerta': False, 'rompe': False, 'humanitaria': False, 'levante': False, 'mano': False, 'cobarde': False, 'iba': False, 'alcanzada': False, 'miguel': False, 'huerta': False, 'calificado': False, 'pueblo': False, 'barbosaelpeorgobernador': False, 'publicacion': False, 'acusa': False, 'manipular': False, 'entidad': False, 'hoyos': False, 'manipulas': False, 'sobraran': False, 'respiratoria': False, 'modo': False, 'bajo': False, 'resumenentransicion': False, 'intubarlo': False, 'dara': False, 'coyon': False, 'borregos': False, 'creyeron': False, 'secuelas': False, 'post': False, 'sigo': False, 'librando': False, 'recomendaciones': False, 'llenadera': False, 'programas': False, 'aterrizaban': False, 'edo': False, 'bolsas': False, 'debian': False, 'llega': False, 'patadas': False, 'ahogado': False, 'investigando': False, 'enferma': False, 'pocos': False, 'recupera': False, 'eua': False, 'vendera': False, 'estima': False, 'costo': False, 'pudiera': False, 'usd': False, 'privados': False, 'acceso': False, 'llamada': False, 'reviente': False, 'luce': False, 'banamex': False, 'calzada': False, 'porfirio': False, 'diaz': False, 'cuentabientes': False, 'respetan': False, 'protocolos': False, 'institucion': False, 'via': False, 'clase': False, 'decencia': False, 'disculparte': False, 'septiembre': False, 'morenaesunpeligroparamexico': False, 'muertitos': False, 'mamen': False, 'dejense': False, 'pendejadas': False, 'apuestan': False, 'proxima': False, 'cita': False, 'respetaron': False, 'pachangones': False, 'bebes': False, 'cuarentena': False, 'gestion': False, 'haganle': False, 'acuerdo': False, 'constitucion': False, 'derecho': False, 'proteccion': False, 'tipo': False, 'incluyendo': False, 'humano': False, 'garantizar': False, 'monopolizar': False, 'creia': False, 'gripita': False, 'redujo': False, 'reportaron': False, 'charlatan': False, 'miente': False, 'respira': False, 'reforma': False, 'expo': False, 'mexicraneos': False, 'gran': False, 'permitir': False, 'suben': False, 'tomen': False, 'patrocinador': False, 'quiza': False, 'jugarle': False, 'cagadero': False, 'atravesando': False, 'cargue': False, 'pinches': False, 'miserables': False, 'maloparamexico': False, 'personajes': False, 'valquirias': False, 'mirmidones': False, 'nessios': False, 'somosmexico': False, 'mexicoconvoca': False, 'suspenden': False, 'huejotzingo': False, 'civil': False, 'desalojaron': False, 'reventon': False, 'barrio': False, 'bautizo': False, 'obsesion': False, 'seguimiento': False, 'fallecidas': False, 'mediatico': False, 'obsesionado': False, 'mandato': False, 'rendir': False, 'cuentas': False, 'angela': False, 'merkel': False, 'aceptable': False, 'declaran': False, 'luz': False, 'final': False, 'tunel': False, 'destinados': False, 'inventando': False, 'comprarla': False, 'administrarla': False, 'martin': False, 'muuuuy': False, 'desquiciado': False, 'dado': False, 'batalla': False, 'invita': False, 'seguirlas': False, 'mexiquensesmasfuertes': False, 'diez': False, 'terribles': False, 'senalan': False, 'ponganos': False, 'turquia': False, 'turca': False, 'obesa': False, 'm': False, 'tehuacan': False, 'sino': False, 'confina': False, 'incurre': False, 'nalguita': False, 'convencido': False, 'darse': False, 'encerrona': False, 'sexual': False, 'perra': False, 'interesante': False, 'opinion': False, 'utoridades': False, 'cancun': False, 'permitido': False, 'embarcaciones': False, 'autorizadas': False, 'respetar': False, 'tripulante': False, 'examen': False, 'diariamente': False, 'dicen': False, 'reflexione': False, 'modifique': False, 'escuche': False, 'bastadepretextos': False, 'remdesivirya': False, 'verdadero': False, 'elvirus': False, 'desvia': False, 'bancarias': False, 'samy': False, 'alto': False, 'quedar': False, 'expuesto': False, 'reirse': False, 'ireeeeenlo': False, 'pachanga': False, 'lordjalisco': False, 'virus': False, 'hipocrita': False, 'dejara': False, 'hacerse': False, 'martir': False, 'sentirse': False, 'perseguido': False, 'decadentes': False, 'sinovac': False, 'adultos': False, 'mayores': False, 'barata': False, 'vamos': False, 'vacunandonos': False, 'lilly': False, 'tellez': False, 'reclama': False, 'desastroso': False, 'caotica': False, 'bloqueo': False, 'mes': False, 'nicolas': False, 'maduro': False, 'promocionar': False, 'lorenzocordova': False, 'fraudeelectoral': False, 'aliado': False, 'golpistas': False, 'extranjeros': False, 'noalvotoelectronico': False, 'odebrecht': False, 'emiliolozoya': False, 'inecorrupto': False, 'encomiendate': False, 'santo': False, 'pegue': False, 'amor': False, 'rdf': False, 'consumir': False, 'alimentoschatarra': False, 'causando': False, 'dano': False, 'ridaura': False, 'hospitalizado': False, 'borro': False, 'tuit': False, 'falsoemoji': False, 'comparto': False, 'divulga': False, 'tras': False, 'polemica': False, 'toma': False, 'credenciales': False, 'elector': False, 'adultosmayores': False, 'aplicarse': False, 'realizara': False, 'hugolopezgatell': False, 'tocaba': False, 'mama': False, 'extranjera': False, 'viviendo': False, 'querian': False, 'xq': False, 'ine': False, 'testigo': False, 'mejoren': False, 'confiar': False, 'funcionan': False, 'dato': False, 'bomba': False, 'zipolite': False, 'proyecto': False, 'realizan': False, 'masivas': False, 'noticieros': False, 'televisa': False, 'posible': False, 'cancele': False, 'vuelo': False, 'importar': False, 'necesidades': False, 'caducidad': False, 'pcr': False, 'actitud': False, 'despota': False, 'tenernos': False, 'formados': False, 'epoca': False, 'balance': False, 'formulas': False, 'magicas': False, 'equilibrar': False, 'esferas': False, 'rebrotes': False, 'subregistro': False, 'tudecides': False, 'usacubrebocas': False, 'regreso': False, 'california': False, 'sabado': False, 'redoblemos': False, 'esfuerzos': False, 'yomeguardoporoaxaca': False, 'espero': False, 'recuerde': False, 'palabras': False, 'proyecciones': False, 'demencial': False, 'siganse': False, 'riendo': False, 'dramatizar': False, 'd': False, 'vivir': False, 'inversion': False, 'pymes': False, 'tope': False, 'hospitalario': False, 'hacia': False, 'permanecen': False, 'cambios': False, 'brillante': False, 'accion': False, 'carniceria': False, 'reclamarle': False, 'parquesanantonio': False, 'toltecas': False, 'carola': False, 'plazaparquesanantonio': False, 'diciendo': False, 'problemas': False, 'correo': False, 'envie': False, 'evidencia': False, 'trafico': False, 'influencia': False, 'infecciosa': False, 'causar': False, 'tormentosa': False, 'aseguraba': False, 'cuantas': False, 'habrian': False, 'evitado': False, 'pronto': False, 'expectativa': False, 'incompetencia': False, 'indolencia': False, 'perversidad': False, 'termina': False, 'comparandose': False, 'c': False, 'cansa': False, 'mentir': False, 'cansados': False, 'discursos': False, 'confrontativos': False, 'interminable': False, 'necesidad': False, 'valemadrismo': False, 'arriesgar': False, 'panbol': False, 'estadiocovid': False, 'aumento': False, 'culpara': False, 'akroncovid': False, 'chivasconcovid': False, 'esconder': False, 'verdaderas': False, 'principios': False, 'sorprende': False, 'contradice': False, 'participe': False, 'reunion': False, 'encabezada': False, 'damos': False, 'derivado': False, 'hablemos': False, 'cerca': False, 'discriminacion': False, 'violencia': False, 'poblaciones': False, 'tocado': False, 'puerta': False, 'rostro': False, 'companerxs': False, 'amigxs': False, 'todxssomosjonathansantos': False, 'permite': False, 'avanzar': False, 'rutilio': False, 'escandon': False, 'explicar': False, 'municipios': False, 'iniciaron': False, 'incidencia': False, 'coyoacan': False, 'reclamen': False, 'defiende': False, 'derrumbando': False, 'teatro': False, 'federalistas': False, 'politiqueria': False, 'burda': False, 'toco': False, 'siguiente': False, 'seras': False, 'cronicas': False, 'asociadas': False, 'mala': False, 'nutricion': False, 'tribuyo': False, 'deficit': False, 'comunicacion': False, 'farmaceuticas': False, 'barbosalincha': False, 'pobres': False, 'inmunes': False, 'lejos': False, 'ocuparse': False, 'tareas': False, 'enemigo': False, 'golpeador': False, 'dacuerdo': False, 'multifactorial': False, 'dlos': False, 'sistemas': False, 'inmunologicos': False, 'debiles': False, 'qno': False, 'creen': False, 'quebrada': False, 'cfe': False, 'ocurre': False, 'estelar': False, 'garcia': False, 'luna': False, 'mientes': False, 'reservaste': False, 'contigo': False, 'llevaron': False, 'langosta': False, 'hicieran': False, 'pizza': False, 'adentro': False, 'coche': False, 'seguramente': False, 'pelon': False, 'imbecil': False, 'desaparece': False, 'subsecretarias': False, 'austeridad': False, 'lunes': False, 'martes': False, 'gusta': False, 'sumemos': False, 'siento': False, 'suman': False, 'confirmadas': False, 'encima': False, 'acercarnos': False, 'sonrisa': False, 'quitar': False, 'cercano': False, 'vimos': False, 'valen': False, 'explicacion': False, 'estudiantes': False, 'fernandaf': False, 'destitucion': False, 'experto': False, 'materia': False, 'resulta': False, 'extrano': False, 'senalados': False, 'irregularidades': False, 'respectivos': False, 'gobiernos': False, 'gatellsequeda': False, 'tardamos': False, 'triplicarlo': False, 'tal': False, 'consciencia': False, 'datosnorelatos': False, 'cartilla': False, 'abastecer': False, 'podran': False, 'perdon': False, 'creo': False, 'gobiernodelamentira': False, 'animados': False, 'xochimilco': False, 'pusieron': False, 'bailar': False, 'felices': False, 'humillacion': False, 'comio': False, 'suma': False, 'miembros': False, 'conveniente': False, 'ocultarse': False, 'sintoma': False, 'desgracia': False, 'mentira': False, 'elpeorgobiernodelahistoria': False, 'niega': False, 'unicamente': False, 'informa': False, 'presencia': False, 'senores': False, 'opacidad': False, 'privar': False, 'accesoalainformacion': False, 'alfaromentiroso': False, 'recuerdan': False, 'trajeron': False, 'encarga': False, 'esparcirlo': False, 'falseaste': False, 'tenerte': False, 'confianza': False, 'garantias': False, 'calidad': False, 'basadas': False, 'estudio': False, 'fase': False, 'permitira': False, 'parajes': False, 'turisticos': False, 'magnifica': False, 'decision': False, 'persar': False, 'conocerlo': False, 'juan': False, 'callejas': False, 'dono': False, 'dormir': False, 'paz': False, 'aplausos': False, 'impedimento': False, 'intereses': False, 'economicos': False, 'turisteros': False, 'empresarios': False, 'inconscientes': False, 'epicentro': False, 'guerrero': False, 'dona': False, 'cierren': False, 'irlanda': False, 'recomendaron': False, 'suspension': False, 'partir': False, 'astrazeneca': False, 'manifestaron': False, 'exigen': False, 'ocasionada': False, 'detalles': False, 'demas': False, 'usen': False, 'destituya': False, 'desastrosa': False, 'actuo': False, 'tarde': False, 'manipulo': False, 'cantinflesco': False, 'mentiroso': False, 'chingados': False, 'claudia': False, 'dediciembre': False, 'rapido': False, 'comentarles': False, 'umf': False, 'juraron': False, 'pasaria': False, 'trabajadoras': False, 'sociales': False, 'vacunadas': False, 'obediente': False, 'saltandose': False, 'fila': False, 'patricia': False, 'batani': False, 'regidora': False, 'vacunada': False, 'procede': False, 'republicana': False, 'reportara': False, 'grupo': False, 'lideres': False, 'sindicales': False, 'buscara': False, 'colarse': False, 'habra': False, 'sanciones': False, 'administrativas': False, 'penales': False, 'intente': False, 'creimos': False, 'vaticino': False, 'latinus': False, 'gerardo': False, 'valtierra': False, 'periodista': False, 'recientemente': False, 'gerardovaltierra': False, 'tudn': False, 'internado': False, 'madrugada': False, 'javier': False, 'alarcon': False, 'pensaran': False, 'usuarios': False, 'metro': False, 'votaron': False, 'sentiran': False, 'remordimiento': False, 'atras': False, 'pickup': False, 'amontonados': False, 'miedo': False, 'barato': False, 'caro': False, 'llevo': False, 'urgencias': False, 'atienden': False, 'sentia': False, 'inmediatamente': False, 'sujeto': False, 'despreciable': False, 'despreciado': False, 'tasa': False, 'parecerse': False, 'espana': False, 'ginecologia': False, 'obstetricia': False, 'roban': False, 'bono': False, 'acosan': False, 'credencial': False, 'votar': False, 'remover': False, 'pagar': False, 'publicar': False, 'excesos': False, 'esperabamos': False, 'rosan': False, 'estupido': False, 'pidiendo': False, 'busquemos': False, 'seguira': False, 'limite': False, 'ciudadana': False, 'semestre': False, 'exportaciones': False, 'destaca': False, 'desplome': False, 'automotrices': False, 'fortaleza': False, 'agropecuarias': False, 'importaciones': False, 'retrata': False, 'consumo': False, 'restaurantes': False, 'muerteadas': False, 'etla': False, 'tradicionales': False, 'muertedadas': False, 'esperadas': False, 'festividades': False, 'oaxaquena': False, 'canceladas': False, 'previene': False, 'estampitas': False, 'rehusa': False, 'impulsar': False, 'oms': False, 'trazo': False, 'alemania': False, 'recuerdo': False, 'preguntaba': False, 'suiza': False, 'reconocidas': False, 'fincarles': False, 'responsabilidades': False, 'das': False, 'nefasto': False, 'pobre': False, 'pesimo': False, 'karen': False, 'alejandra': False, 'ramirez': False, 'molina': False, 'viajando': False, 'vicente': False, 'yuca': False, 'fakenewsalert': False, 'economico': False, 'mazatlan': False, 'desmintio': False, 'ysumision': False, 'asintomaticas': False, 'saber': False, 'px': False, 'asintomaticos': False, 'aleatorias': False, 'aislamiento': False, 'contactos': False, 'prevenir': False, 'paquetes': False, 'aves': False, 'especies': False, 'distribuye': False, 'gallinas': False, 'pollos': False, 'patos': False, 'guajolotes': False, 'abejas': False, 'reinas': False, 'pasea': False, 'candidato': False, 'acusaciones': False, 'violacion': False, 'reconocido': False, 'intocables': False, 'dira': False, 'velocidad': False, 'destina': False, 'puedan': False, 'anduvo': False, 'lameemoji': False, 'acercamos': False, 'contagiados': False, 'sonriendo': False, 'podra': False, 'hostigamiento': False, 'encargado': False, 'chingue': False, 'bocas': False, 'use': False, 'desea': False, 'pronta': False, 'recuperacion': False, 'confirmar': False, 'marzo': False, 'hara': False, 'cediendo': False, 'incapacidad': False, 'unas': False, 'aureoles': False, 'tomaria': False, 'propias': False, 'pasmado': False, 'estampida': False, 'chilpancingo': False, 'tienda': False, 'soriana': False, 'clausurada': False, 'merecemoslaextincion': False, 'acuerdan': False, 'afirmaban': False, 'establecio': False, 'criticaron': False, 'horrible': False, 'tomo': False, 'instalo': False, 'alguna': False, 'reconoceran': False, 'ruindad': False, 'difundio': False, 'imagenes': False, 'parque': False, 'acompanado': False, 'mujer': False, 'felicidades': False, 'realizado': False, 'chaira': False, 'codos': False, 'cenizos': False, 'obesos': False, 'hipertensos': False, 'fumadores': False, 'diabeticos': False, 'secretaria': False, 'entendi': False, 'servira': False, 'captar': False, 'votos': False, 'poca': False, 'valoran': False, 'aplico': False, 'secreto': False, 'sicopata': False, 'territorio': False, 'controlado': False, 'narco': False, 'cae': False, 'tranquilos': False, 'casas': False, 'quebrados': False, 'desapareceran': False, 'bancos': False, 'requetebien': False, 'cambiamos': False, 'seguiremos': False, 'reitero': False, 'adversarios': False, 'crear': False, 'gusto': False, 'comparar': False, 'conferenciacoronavirus': False, 'recibido': False, 'requerimiento': False, 'juez': False, 'aceptar': False, 'ironia': False, 'elegancia': False, 'hugo': False, 'filiaciones': False, 'nexos': False, 'pasados': False, 'recordar': False, 'decrecimiento': False, 'perdidos': False, 'narcopresidente': False, 'zoe': False, 'bartlett': False, 'sandoval': False, 'ackerman': False, 'yaidkol': False, 'gobernar': False, 'ignore': False, 'impuesto': False, 'familiar': False, 'acepto': False, 'definicion': False, 'clara': False, 'esquema': False, 'cualquier': False, 'informaba': False, 'dimos': False, 'aviso': False, 'pasamos': False, 'acceder': False, 'saturados': False, 'rebasa': False, 'huele': False, 'semanal': False, 'diga': False, 'necesitan': False, 'resto': False, 'dandole': False, 'paguemos': False, 'vacacionar': False, 'fondo': False, 'hipocresia': False, 'incongruencia': False, 'moraleja': False, 'vibrenalto': False, 'noseancomogatell': False, 'republicamx': False, 'lopezgatell': False, 'panama': False, 'peru': False, 'lamento': False, 'restablecimiento': False, 'casero': False, 'adecuada': False, 'guardo': False, 'exigia': False, 'decreto': False, 'bienvenido': False, 'democracia': False, 'sarscov': False, 'covax': False, 'adelanto': False, 'adquirira': False, 'creemos': False, 'sabemos': False, 'evita': False, 'lugares': False, 'bajes': False, 'guardia': False, 'protegeteyprotegealosdemas': False, 'comunidad': False, 'coincide': False, 'efectividad': False, 'vemos': False, 'desprecio': False, 'deberan': False, 'responder': False, 'policias': False, 'reprimieran': False, 'atropellaran': False, 'diagnosticado': False, 'desaparecidos': False, 'escena': False, 'publica': False, 'aglomeracion': False, 'dl': False, 'clausuro': False, 'tlayudas': False, 'chinita': False, 'llevada': False, 'campeonato': False, 'streetfoodlatinoamerica': False, 'felizsabado': False, 'abastecidos': False, 'exploto': False, 'recordaron': False, 'caldo': False, 'explica': False, 'remdesivir': False, 'emergencia': False, 'senala': False, 'agravantes': False, 'sugieren': False, 'autorizado': False, 'convoca': False, 'descuidar': False, 'preventivas': False, 'contabilizan': False, 'comento': False, 'fraude': False, 'enganar': False, 'enredos': False, 'verbales': False, 'distractores': False, 'concreta': False, 'pobreza': False, 'aumenta': False, 'persecuciones': False, 'ponganse': False, 'doritos': False, 'damian': False, 'alcazar': False, 'defensa': False, 'circularan': False, 'actor': False, 'acuso': False, 'linchamiento': False, 'severas': False, 'nosfaltan': False, 'fueelestado': False, 'convocar': False, 'v': False, 'rec': False, 'hum': False, 'descontar': False, 'remuneraciones': False, 'extr': False, 'abusan': False, 'unico': False, 'recuperar': False, 'digna': False, 'pagado': False, 'bonocovid': False, 'chihuahua': False, 'fatalidades': False, 'verguenza': False, 'despedido': False, 'revises': False, 'up': False, 'by': False, 'borde': False, 'barra': False, 'densamente': False, 'poblada': False, 'ignorando': False, 'priblema': False, 'prometio': False, 'entregar': False, 'incompetente': False, 'mex': False, 'aplican': False, 'cientificamente': False, 'permita': False, 'entristece': False, 'escuchar': False, 'decadencia': False, 'utilizar': False, 'tribuna': False, 'invitar': False, 'cuidarse': False, 'quiso': False, 'jugarnos': False, 'trampa': False, 'propaganda': False, 'electoral': False, 'pueblarechazaabarbosa': False, 'reprueba': False, 'bloque': False, 'morenista': False, 'quedando': False, 'perderan': False, 'elecciones': False, 'severely': False, 'affected': False, 'call': False, 'with': False, 'counterpart': False, 'foreign': False, 'minister': False, 'pledged': False, 'future': False, 'support': False, 'germany': False, 'will': False, 'send': False, 'team': False, 'experts': False, 'fight': False, 'filadelfo': False, 'vergara': False, 'tapia': False, 'petlalcingo': False, 'municipio': False, 'lamentablemente': False, 'complicaciones': False, 'relacionadas': False, 'nerviosos': False, 'esperaban': False, 'mezquindad': False, 'pronosticaba': False, 'crecen': False, 'velozmente': False, 'ufanan': False, 'acabar': False, 'organizando': False, 'electorales': False, 'chaleco': False, 'cuidandonos': False, 'agamos': False, 'aseguran': False, 'confusa': False, 'juarez': False, 'politicos': False, 'defensores': False, 'embotellado': False, 'importan': False, 'hablan': False, 'subrepresentada': False, 'positividad': False, 'limitadas': False, 'comparado': False, 'uu': False, 'apunta': False, 'subestimacion': False, 'significativa': False, 'gatelgenocida': False, 'nina': False, 'esperabas': False, 'cancerlogia': False, 'asesora': False, 'pendejea': False, 'destinatario': False, 'misiva': False, 'abocado': False, 'expreso': False, 'solidaridad': False, 'reforcemos': False, 'justificacion': False, 'cinismo': False, 'defienden': False, 'omite': False, 'mencionar': False, 'causas': False, 'pesimas': False, 'genuflexos': False, 'implementaron': False, 'agradar': False, 'diferencias': False, 'estatales': False, 'cuernavaca': False, 'tocas': False, 'cuadro': False, 'envian': False, 'diagnostico': False, 'tercer': False, 'historico': False, 'llevabamos': False, 'grandisimo': False, 'calderon': False, 'distrae': False, 'vulgo': False, 'temas': False, 'exigio': False, 'cuelguen': False, 'pretender': False, 'sacar': False, 'raja': False, 'rien': False, 'regana': False, 'serio': False, 'crisissanitaria': False, 'muchisimo': False, 'razonable': False, 'preguntemos': False, 'morimos': False, 'chafa': False, 'cultura': False, 'formales': False, 'pagan': False, 'impuestos': False, 'afectas': False, 'aplicas': False, 'ambulantes': False, 'rep': False, 'salvador': False, 'peatonal': False, 'primeria': False, 'primo': False, 'contagiaron': False, 'recuperarse': False, 'descanso': False, 'dije': False, 'presumio': False, 'aplicaria': False, 'venia': False, 'compra': False, 'empezando': False, 'sello': False, 'moriran': False, 'puso': False, 'engano': False, 'gravedad': False, 'nyt': False, 'conciertosenpandemia': False, 'noaprendemos': False, 'postergar': False, 'abril': False, 'corran': False, 'refuercen': False, 'honesto': False, 'honrado': False, 'rey': False, 'loco': False, 'preocuparnos': False, 'dejan': False, 'hospitalizados': False, 'vacunara': False, 'compartir': False, 'senora': False, 'amenazo': False, 'reportarla': False, 'musica': False, 'altas': False, 'monterrey': False, 'baia': False, 'entera': False, 'empresa': False, 'cuyos': False, 'socios': False, 'argentinos': False, 'visito': False, 'jugoso': False, 'anamargaritasalazar': False, 'comisa': False, 'supervisor': False, 'contacto': False, 'laboral': False, 'arriesgando': False, 'demandaran': False, 'perdio': False, 'joven': False, 'papa': False, 'entrevista': False, 'loret': False, 'pensando': False, 'trabajan': False, 'consultorios': False, 'anexos': False, 'farmacias': False, 'cadena': False, 'ocasiones': False, 'sta': False, 'martha': False, 'acatitla': False, 'ordenes': False, 'internas': False, 'mamas': False, 'bbs': False, 'edad': False, 'contagiadas': False, 'cobid': False, 'separenlas': False, 'piedad': False, 'microbe': False, 'poblana': False, 'golpeadas': False, 'nulo': False, 'pouting': False, 'face': False, 'barbosaqueremosvacuna': False, 'citi': False, 'recibe': False, 'tratamiento': False, 'lajornada': False, 'delicado': False, 'planetacoronavirus': False, 'mean': False, 'she': False, 'wrong': False, 'atascado': False, 'uuuy': False, 'dificil': False, 'mapacheo': False, 'gastar': False, 'vio': False, 'calles': False, 'colonia': False, 'roba': False, 'navidad': False, 'incurrido': False, 'amerita': False, 'muestras': False, 'ineficiencia': False, 'critico': False, 'estafador': False, 'app': False, 'opera': False, 'prensa': False, 'sheinbaum': False, 'encuentra': False, 'equivale': False, 'estadio': False, 'cu': False, 'veracruzsinaguapotable': False, 'quejas': False, 'escasez': False, 'agua': False, 'severa': False, 'problematica': False, 'aumentan': False, 'leiste': False, 'imbeciles': False, 'duelo': False, 'bandas': False, 'afuera': False, 'oficinas': False, 'foco': False, 'momentos': False, 'algidos': False, 'gobernantes': False, 'tibios': False, 'sumisos': False, 'atreven': False, 'contrariar': False, 'patrones': False, 'redd': False, 'transparente': False, 'incapaz': False, 'atendieron': False, 'zar': False, 'aplicaron': False, 'inaccesible': False, 'precio': False, 'disposicion': False, 'dudo': False, 'calculan': False, 'pueda': False, 'comunicarse': False, 'despedida': False, 'incapacitada': False, 'rateras': False, 'abusivas': False, 'breaking': False, 'president': False, 'andres': False, 'manuel': False, 'contracted': False, 'says': False, 'mild': False, 'symptoms': False, 'thus': False, 'far': False, 'warning': False, 'months': False, 'serious': False, 'uncontrolled': False, 'epidemic': False, 'dismissed': False, 'it': False, 'fine': False, 'cuz': False, 'hospitals': False, 'weren': False, 'full': False, 'sirven': False, 'honor': False, 'avestruz': False, 'relevar': False, 'american': False, 'british': False, 'cowdray': False, 'fifi': False, 'presidentito': False, 'menosprecio': False, 'gripe': False, 'actuacion': False, 'gobiernodemexico': False, 'velar': False, 'saludpublica': False, 'embate': False, 'emergenciasanitaria': False, 'omisa': False, 'ocasionado': False, 'futuro': False, 'molesta': False, 'prohibir': False, 'dioxidodecloro': False, 'efectiva': False, 'lesa': False, 'humanidad': False, 'propietarios': False, 'negocios': False, 'abrir': False, 'esternal': False, 'molestia': False, 'material': False, 'administradora': False, 'palafox': False, 'almacen': False, 'fortalecer': False, 'coordinacion': False, 'institucional': False, 'rocio': False, 'titularsndif': False, 'participa': False, 'comite': False, 'tecnico': False, 'muere': False, 'kuri': False, 'harfush': False, 'trascendente': False, 'pesame': False, 'carlos': False, 'slim': False, 'visto': False, 'vea': False, 'andando': False, 'montandose': False, 'yendo': False, 'conciencia': False, 'seguire': False, 'respaldado': False, 'profunda': False, 'digo': False, 'miserable': False, 'maquillo': False, 'oculto': False, 'precisamente': False, 'ventilador': False, 'redes': False, 'foto': False, 'sacada': False, 'consientes': False, 'centrohistorico': False, 'filtros': False, 'absolutamente': False, 'detiene': False, 'aglomeraciones': False, 'pd': False, 'invitandola': False, 'lopeztraidor': False, 'reaparece': False, 'virtual': False, 'epidemiologica': False, 'intervencion': False, 'vespertina': False, 'suficiente': False, 'revisa': False, 'cdc': False, 'veras': False, 'presunto': False, 'anteriores': False, 'latareaescuidarte': False, 'evoluciona': False, 'contagiarte': False, 'sntesalud': False, 'felizviernes': False, 'pfizer': False, 'cansino': False, 'sputnik': False, 'acompane': False, 'puesta': False, 'marcha': False, 'tlaxcala': False, 'beneficiara': False, 'turistico': False, 'nueve': False, 'afectadas': False, 'detectado': False, 'cinco': False, 'sepa': False, 'comenzar': False, 'terminar': False, 'inventaron': False, 'evidenciar': False, 'mentirosos': False, 'redondos': False, 'lucran': False, 'dolor': False, 'especial': False, 'viajeros': False, 'provenientes': False, 'inglaterra': False, 'dirijo': False, 'sumando': False, 'tuberculosis': False, 'polio': False, 'regaladas': False, 'presupuestados': False, 'busque': False, 'publicitar': False, 'rifa': False, 'videos': False, 'show': False, 'enanos': False, 'objetivos': False, 'aunque': False, 'resulto': False, 'sigan': False, 'cuidandose': False, 'quedandose': False, 'mejorando': False, 'semaforocovid': False, 'indica': False, 'martinorozco': False, 'ags': False, 'verde': False, 'culpen': False, 'cerradas': False, 'fuentes': False, 'dependemos': False, 'tijuana': False, 'sintrabajotambiensemuere': False, 'gobconcovidsincurasintrabajo': False, 'records': False, 'giras': False, 'queriendo': False, 'asaltar': False, 'actividad': False, 'hunde': False, 'decidira': False, 'cierran': False, 'bretana': False, 'expertos': False, 'hablaron': False, 'gimnasio': False, 'posterior': False, 'expuestos': False, 'desarrollo': False, 'embargo': False, 'infrecuente': False, 'debemos': False, 'cuarto': False, 'lastimosa': False, 'mutis': False, 'difundida': False, 'corresponde': False, 'desmentido': False, 'lacatastrofelosrebaso': False, 'privilegios': False, 'goza': False, 'ocupando': False, 'especiales': False, 'gobiernodementiras': False, 'tamanos': False, 'hacerlo': False, 'esperamos': False, 'monton': False, 'incoherentes': False, 'gobiernan': False, 'cuidatedelcovid': False, 'terminen': False, 'lopitos': False, 'neo': False, 'comunista': False, 'llorando': False, 'gratis': False, 'oposicionunida': False, 'rxm': False, 'redmasuno': False, 'lasmasleidas': False, 'llenos': False, 'especialmente': False, 'alimentos': False, 'consultados': False, 'emeequis': False, 'aerolineas': False, 'resisten': False, 'alerto': False, 'ofrezca': False, 'intento': False, 'identifico': False, 'pagina': False, 'laboratorio': False, 'chopo': False, 'vende': False, 'compania': False, 'deslindo': False, 'portal': False, 'lee': False, 'infecto': False, 'merecia': False, 'maestra': False, 'suplente': False, 'traer': False, 'arribo': False, 'aspen': False, 'vacacionando': False, 'tardo': False, 'caer': False, 'escupio': False, 'cielo': False, 'esdefachosenmexico': False, 'gastando': False, 'par': False, 'desprestigiar': False, 'borrar': False, 'sobrellevar': False, 'dna': False, 'atiende': False, 'obligacion': False, 'andarlos': False, 'preguntaste': False, 'ingobernabilidad': False, 'calla': False, 'denuncias': False, 'covidtransas': False, 'aclaraciones': False, 'quintanaroo': False, 'cozumel': False, 'chetumal': False, 'playadelcarmen': False, 'tulum': False, 'activa': False, 'sumo': False, 'latinoamerica': False, 'chivo': False, 'expiatorio': False, 'puente': False, 'larry': False, 'punch': False, 'trumprally': False, 'newspapers': False, 'newsflash': False, 'newsmedia': False, 'deultimahora': False, 'vaccine': False, 'cinico': False, 'volvio': False, 'personaje': False, 'arrasa': False, 'encuesta': False, 'luchando': False, 'terminos': False, 'plandemicos': False, 'asintomatico': False, 'dictadura': False, 'deshumanizacion': False, 'terrorismo': False, 'psicologico': False, 'informativos': False, 'aporta': False, 'veraz': False, 'negacionistas': False, 'aplicada': False, 'extrana': False, 'registrategratis': False, 'cuestionado': False, 'caminando': False, 'contradictorio': False, 'evito': False, 'popular': False, 'ruptura': False, 'pacto': False, 'fiscal': False, 'hacerla': False, 'representara': False, 'fuente': False, 'gasta': False, 'esperaria': False, 'goberladron': False, 'pleno': False, 'renovo': False, 'flotilla': False, 'derrocho': False, 'elektra': False, 'obligaron': False, 'mandarlos': False, 'home': False, 'office': False, 'salinas': False, 'pliego': False, 'calladito': False, 'culpan': False, 'irresponsablemente': False, 'cuidan': False, 'actua': False, 'elite': False, 'decidio': False, 'aniquilar': False, 'texto': False, 'krauze': False, 'juntaron': False, 'caldito': False, 'pollo': False, 'echa': False, 'semaforos': False, 'malir': False, 'sal': False, 'conversacion': False, 'delgado': False, 'comente': False, 'cancilleria': False, 'balon': False, 'cuatro': False, 'balones': False, 'deshojando': False, 'margarita': False, 'dejen': False, 'matar': False, 'unioneuropea': False, 'felicito': False, 'asumieron': False, 'presidencia': False, 'vicepresidencia': False, 'trabajamos': False, 'derivados': False, 'futuras': False, 'generaciones': False, 'preguntaran': False, 'guarden': False, 'libros': False, 'salvese': False, 'vacacionistas': False, 'voy': False, 'sali': False, 'tren': False, 'maya': False, 'beisbol': False, 'contar': False, 'desvios': False, 'millonarios': False, 'octubre': False, 'ilustrar': False, 'salimos': False, 'confundido': False, 'federalizados': False, 'asf': False, 'aclarado': False, 'famoso': False, 'replantee': False, 'triste': False, 'olvida': False, 'titere': False, 'favorito': False, 'yosoyobscimx': False, 'quitarles': False, 'mascara': False, 'charlatanes': False, 'pastores': False, 'sanadores': False, 'andan': False, 'patas': False, 'escondidos': False, 'casualmente': False, 'dejaron': False, 'milagros': False, 'poderes': False, 'credulos': False, 'servilismo': False, 'correcto': False, 'profesional': False, 'extraoficialmente': False, 'provocaciones': False, 'aliados': False, 'cartel': False, 'monopolios': False, 'farmaceuticos': False, 'anoche': False, 'catedra': False, 'domando': False, 'tata': False, 'gansopopochtli': False, 'puro': False, 'chingazo': False, 'carton': False, 'perujo': False, 'disminuido': False, 'mapachean': False, 'anticovid': False, 'consiguieron': False, 'familiares': False, 'recibieran': False, 'haberse': False, 'registrado': False, 'digalo': False, 'disminuyo': False, 'repunte': False, 'definitivamente': False, 'bravo': False, 'felicitaciones': False, 'felicite': False, 'declarar': False, 'oyendo': False, 'creera': False, 'autoritarias': False, 'basico': False, 'restringidas': False, 'vivieron': False, 'ausencia': False, 'preambulo': False, 'salida': False, 'sub': False, 'puedo': False, 'equivocado': False, 'manoso': False, 'reportados': False, 'pronosticos': False, 'deportivos': False, 'resolver': False, 'gobernados': False, 'demostrado': False, 'conflicto': False, 'suele': False, 'esteriles': False, 'toca': False, 'tiempodecovid': False, 'venta': False, 'boletos': False, 'causalidad': False, 'irrefutable': False, 'implique': False, 'solicitado': False, 'acudido': False, 'patrulla': False, 'supone': False, 'tragica': False, 'juegue': False, 'gatellcovidiota': False, 'aputrefaccion': False, 'informar': False, 'confuso': False, 'comunicado': False, 'enlaces': False, 'vivo': False, 'fraccionamiento': False, 'lunabosque': False, 'inhumano': False, 'anticonstitucional': False, 'avise': False, 'restantes': False, 'alianza': False, 'abandonaron': False, 'reunieron': False, 'hente': False, 'adulta': False, 'fantasmal': False, 'inefable': False, 'analistas': False, 'discutir': False, 'epidemiologicos': False, 'volvia': False, 'traen': False, 'relevante': False, 'acompano': False, 'relacion': False, 'nacionalidad': False, 'enfoquemonos': False, 'quedarse': False, 'juca': False, 'susanadistancia': False, 'marchas': False, 'acarreos': False, 'yunquepanistas': False, 'desenfrenaados': False, 'niunvotoalprian': False, 'acarreoscovid': False, 'egoista': False, 'egolatra': False, 'incapaces': False, 'comun': False, 'rifado': False, 'usar': False, 'festejar': False, 'vives': False, 'tecnologia': False, 'indispensables': False, 'atrasado': False, 'excelsior': False, 'sen': False, 'qepd': False, 'sesion': False, 'avalaron': False, 'salon': False, 'cumple': False, 'minimos': False, 'requisitos': False, 'sanitarios': False, 'conseguiste': False, 'vas': False, 'unir': False, 'manadadebueyesmansos': False, 'sease': False, 'entidades': False, 'federativas': False, 'falto': False, 'periodico': False, 'registrar': False, 'peticion': False, 'hecha': False, 'amigo': False, 'ambito': False, 'salvo': False, 'podrido': False, 'vil': False, 'impotencia': False, 'coraje': False, 'celebran': False, 'covidfest': False, 'antro': False, 'azotea': False, 'antecedentes': False, 'abonando': False, 'saldremos': False, 'estimaciones': False, 'niegan': False, 'estampita': False, 'funciono': False, 'jesus': False, 'ocupado': False, 'detener': False, 'italia': False, 'ola': False, 'superado': False, 'confien': False, 'jefea': False, 'presimuer': False, 'salgan': False, 'indispensableemoji': False, 'diferencia': False, 'recuperan': False, 'pronostico': False, 'panorama': False, 'salarios': False, 'practicarse': False, 'mins': False, 'hablaste': False, 'fallando': False, 'totslmente': False, 'decidido': False, 'requieren': False, 'queja': False, 'aparecen': False, 'listas': False, 'hacerme': False, 'vengo': False, 'kioskos': False, 'presume': False, 'sorpresa': False, 'abandonado': False, 'revolucion': False, 'viaducto': False, 'ultimominuto': False, 'sostuvo': False, 'posibilidades': False, 'regrese': False, 'adelanta': False, 'proximas': False, 'anunciaran': False, 'restrictivas': False, 'adicionales': False, 'guadalajara': False, 'vacunando': False, 'aseguraron': False, 'capitalino': False, 'faltaron': False, 'legistas': False, 'dependen': False, 'aflige': False, 'maltraten': False, 'buena': False, 'repunta': False, 'slp': False, 'sumar': False, 'intubados': False, 'aplica': False, 'tlalnepantla': False, 'avisaron': False, 'debiamos': False, 'presentarnos': False, 'vulnerables': False, 'elogios': False, 'serian': False, 'catastroficas': False, 'esenciales': False, 'tendran': False, 'cerrar': False, 'encarara': False, 'planteo': False, 'podia': False, 'saberse': False, 'antier': False, 'guardian': False, 'comprado': False, 'vuela': False, 'ciegas': False, 'desconcierta': False, 'zaz': False, 'pierde': False, 'firmando': False, 'desplegados': False, 'manifiestan': False, 'caravana': False, 'exigiendole': False, 'oigan': False, 'cerrado': False, 'cardiopatas': False, 'usados': False, 'probada': False, 'altisimo': False, 'pensara': False, 'sociologico': False, 'provoca': False, 'padecen': False, 'bajamos': False, 'seguras': False, 'desinfectadas': False, 'micas': False, 'acrilico': False, 'sitioseguro': False, 'pedrera': False, 'blvd': False, 'comprobo': False, 'pactocomunitario': False, 'pesadilla': False, 'superando': False, 'pesimistas': False, 'reafirmo': False, 'atiendase': False, 'aberracion': False, 'honorable': False, 'plano': False, 'pela': False, 'estarann': False, 'naucalpan': False, 'operando': False, 'poniente': False, 'escuchan': False, 'tamborazos': False, 'angeles': False, 'acoxpa': False, 'fibriomatosis': False, 'quisieron': False, 'salido': False, 'indice': False, 'prestigiada': False, 'universidad': False, 'john': False, 'hopkins': False, 'subestimo': False, 'sometio': False, 'politicamente': False, 'leanlo': False, 'loslopez': False, 'nato': False, 'principio': False, 'solemnemente': False, 'consagrar': False, 'faces': False, 'criticism': False, 'as': False, 'surges': False, 'colmo': False, 'inclusive': False, 'niegue': False, 'fallezca': False, 'enfrentarse': False, 'cpt': False, 'buscando': False, 'critiquen': False, 'triple': False, 'xalapa': False, 'alertaporcovidcdmx': False, 'cumplimos': False, 'bajaremos': False, 'nobajeslaguardia': False, 'lavate': False, 'guarda': False, 'mascaras': False, 'innumerables': False, 'testimonios': False, 'infectada': False, 'tratando': False, 'tratar': False, 'bravucon': False, 'mezquino': False, 'caballerosidad': False, 'apostando': False, 'discusion': False, 'tecnica': False, 'explique': False, 'boda': False, 'alejandro': False, 'fernandez': False, 'agredir': False, 'luchan': False, 'validada': False, 'segunda': False, 'apliquen': False, 'registraron': False, 'tantita': False, 'principales': False, 'jornada': False, 'ascenso': False, 'importancia': False, 'vengan': False, 'mentadas': False, 'grillar': False, 'enfocaras': False, 'funcione': False, 'insabi': False, 'operacion': False, 'nudista': False, 'desbalance': False, 'provocado': False, 'quema': False, 'pastizal': False, 'masacres': False, 'asesiatos': False, 'controlo': False, 'decenso': False, 'crimen': False, 'invertir': False, 'adquisicion': False, 'trabajador': False, 'cdvalles': False, 'matehuala': False, 'top': False, 'saturacion': False, 'politiquero': False, 'fracasado': False, 'agradecio': False, 'publicamente': False, 'solicitada': False, 'ayudarlos': False, 'necesitaban': False, 'caen': False, 'habladores': False, 'difundir': False, 'prioridad': False, 'agraviadas': False, 'quintana': False, 'roo': False, 'doy': False, 'consejo': False, 'usalo': False, 'enfermarse': False, 'puedes': False, 'respirar': False, 'portador': False, 'enfermes': False, 'dadiva': False, 'graciosa': False, 'cometidos': False, 'estrategias': False, 'costando': False, 'quebrantos': False, 'retos': False, 'fuertes': False, 'adicional': False, 'aceleracion': False, 'preparar': False, 'impactos': False, 're': False, 'inventarnos': False, 'olvidar': False, 'mental': False, 'transicion': False, 'estulticia': False, 'marrulleria': False, 'profesionales': False, 'talla': False, 'subordinados': False, 'traicion': False, 'evolucionando': False, 'activos': False, 'registradas': False, 'senalar': False, 'consecutivas': False, 'frio': False, 'mostrar': False, 'higiene': False, 'ventilar': False, 'multitudes': False, 'ejercicio': False, 'conducta': False, 'exibe': False, 'perdieron': False, 'integrantes': False, 'indolente': False, 'mesurados': False, 'largas': False, 'filas': False, 'tercera': False, 'enviaron': False, 'huracan': False, 'hanna': False, 'cabe': False, 'amenaza': False, 'boton': False, 'toques': False, 'amaga': False, 'multas': False, 'mural': False, 'plaza': False, 'brozo': False, 'alfarovacunayaajalisco': False, 'autorizacion': False, 'gatogatell': False, 'adquieras': False, 'vacunes': False, 'subreporte': False, 'ago': False, 'disminuyendo': False, 'cede': False, 'grafica': False, 'aumentos': False, 'regresar': False, 'perdidas': False, 'agronomo': False, 'homicidios': False, 'pobremexico': False, 'luis': False, 'ernesto': False, 'esponda': False, 'lectores': False, 'pesima': False, 'nacho': False, 'saliste': False, 'dolido': False, 'violentado': False, 'cervico': False, 'uterino': False, 'apilan': False, 'haran': False, 'pedazos': False, 'requiere': False, 'precavidos': False, 'salvaguardar': False, 'regresoseguroedomex': False, 'urbanos': False, 'parados': False, 'placitas': False, 'funcionar': False, 'partidos': False, 'fut': False, 'coercitivas': False, 'implican': False, 'vividores': False, 'prianato': False, 'nepotismo': False, 'venir': False, 'humillar': False, 'trabajado': False, 'clavos': False, 'yisus': False, 'llevateloscovid': False, 'gam': False, 'ipn': False, 'bonet': False, 'omitiendo': False, 'lote': False, 'talones': False, 'dan': False, 'fingiendo': False, 'fallamos': False, 'construida': False, 'abiertos': False, 'lamananera': False, 'creyente': False, 'aislado': False, 'purificado': False, 'microfotografia': False, 'pretendo': False, 'conspiraciones': False, 'actualizada': False, 'necesitemos': False, 'disminuir': False, 'probabilidad': False, 'significo': False, 'desinformar': False, 'acto': False, 'denunciamos': False, 'altamente': False, 'milenio': False, 'muera': False, 'conocimiento': False, 'inversamente': False, 'proporcional': False, 'chayotez': False, 'famliares': False, 'quedaron': False, 'recuperaron': False, 'neumologo': False, 'trato': False, 'justificara': False, 'lleguemos': False, 'losleo': False, 'atipicos': False, 'continua': False, 'impune': False, 'pocas': False, 'procesado': False, 'contagiosmuertes': False, 'directa': False, 'necesito': False, 'respete': False, 'adulto': False, 'consciente': False, 'decirme': False, 'guia': False, 'ciego': False, 'jajajaja': False, 'serlo': False, 'propia': False, 'respondan': False, 'almomento': False, 'ocupados': False, 'asuntos': False, 'hernandez': False, 'sep': False, 'brota': False, 'ra': False, 'viajaron': False, 'destino': False, 'alteren': False, 'autoricen': False, 'llenarse': False, 'reventar': False, 'besito': False, 'torres': False, 'llily': False, 'doctrina': False, 'panistas': False, 'sucedio': False, 'vallarta': False, 'evidentes': False, 'chingo': False, 'jaz': False, 'estimado': False, 'manifiesto': False, 'radical': False, 'opino': False, 'juzgara': False, 'abrazo': False, 'registrando': False, 'implementando': False, 'preparado': False, 'empleando': False, 'retirar': False, 'manifestaciones': False, 'city': False, 'government': False, 'stopped': False, 'updating': False, 'its': False, 'mortality': False, 'data': False, 'good': False, 'time': False, 'do': False, 'given': False, 'those': False, 'stats': False, 'few': False, 'ways': False, 'see': False, 'whether': False, 'really': False, 'declining': False, 'calambres': False, 'esau': False, 'valencia': False, 'heredia': False, 'humbertoalonsomorelli': False, 'fgr': False, 'gritovirtual': False, 'homenajesvictimas': False, 'josemanuelnogueirafernandez': False, 'voceros': False, 'vuelven': False, 'soltar': False, 'bajezas': False, 'porqueria': False, 'merecemos': False, 'ruines': False, 'saquearon': False, 'reverencial': False, 'infunde': False, 'debida': False, 'desacuerdo': False, 'indicadores': False, 'mantenerse': False, 'coadyuvancia': False, 'asuncion': False, 'nochixtlan': False, 'sanitizan': False, 'avenidas': False, 'transporte': False, 'todossomossspo': False, 'limites': False, 'despidio': False, 'entrenadores': False, 'codeson': False, 'imperdonable': False, 'claudio': False, 'zupo': False, 'transmitio': False, 'explicando': False, 'esperan': False, 'salga': False, 'sarcasmo': False, 'descalifique': False, 'ann': False, 'ximenez': False, 'tomadas': False, 'gatellvergueenzademexico': False, 'largues': False, 'acudi': False, 'clinica': False, 'larguisima': False, 'rayo': False, 'sol': False, 'saberlo': False, 'asignada': False, 'contagiarnos': False, 'felipa': False, 'alcanza': False, 'establecidos': False, 'marcaron': False, 'respetara': False, 'colocacion': False, 'dosificacion': False, 'sugiero': False, 'vehiculo': False, 'tanque': False, 'grande': False, 'multiples': False, 'tomas': False, 'afueras': False, 'mece': False, 'cuna': False, 'carecen': False, 'albedrio': False, 'mediocridad': False, 'manejan': False, 'olvidemos': False, 'farza': False, 'oculta': False, 'compraron': False, 'benevolos': False, 'sheimbaum': False, 'pagamos': False, 'reitera': False, 'ayuntamientos': False, 'promover': False, 'cumplimiento': False, 'estricto': False, 'decretos': False, 'emitidos': False, 'reaperturaresponsableenpuebla': False, 'desgarrando': False, 'vestiduras': False, 'olvidados': False, 'distraccion': False, 'vertida': False, 'declaratoria': False, 'grito': False, 'abierto': False, 'chole': False, 'actual': False, 'interes': False, 'malito': False, 'pulmonar': False, 'microvascular': False, 'azucenaxformula': False, 'finales': False, 'cajeros': False, 'hopelchen': False, 'abarcaba': False, 'cuadras': False, 'acordo': False, 'disparo': False, 'estrategas': False, 'duermen': False, 'estudiando': False, 'implicaciones': False, 'centrarse': False, 'soberon': False, 'alvarez': False, 'diabetologo': False, 'desmiente': False, 'preexistentes': False, 'arterial': False, 'reaparecio': False, 'indre': False, 'temprano': False, 'nomas': False, 'balconeo': False, 'estarias': False, 'hieleras': False, 'unicel': False, 'opinar': False, 'corrupto': False, 'regresan': False, 'texas': False, 'infectadas': False, 'verificar': False, 'traigan': False, 'faltas': False, 'rumbo': False, 'renuncie': False, 'gobiernoirresponsable': False, 'disque': False, 'funcionaretes': False, 'entregando': False, 'asquerosas': False, 'pregonan': False, 'trampolin': False, 'campanas': False, 'anticipadas': False, 'cachorrito': False, 'minutes': False, 'harsh': False, 'mismanagement': False, 'b': False, 'lose': False, 'congress': False, 'majority': False, 'mid': False, 'term': False, 'elections': False, 'an': False, 'private': False, 'pleasure': False, 'interesantes': False, 'pasan': False, 'ladycovid': False, 'ajena': False, 'aperrado': False, 'leguaje': False, 'florido': False, 'vulgar': False, 'distinguidos': False, 'adorno': False, 'epico': False, 'ausente': False, 'consideras': False, 'destituido': False, 'instancias': False, 'legales': False, 'ocho': False, 'republica': False, 'corren': False, 'presentar': False, 'nel': False, 'logrado': False, 'respiran': False, 'quedan': False, 'lograron': False, 'perjudicar': False, 'milenios': False, 'modificar': False, 'nuevamente': False, 'publicara': False, 'contempla': False, 'indisciplina': False, 'fatal': False, 'fronteras': False, 'guardar': False, 'puesto': False, 'optimista': False, 'mantener': False, 'embustero': False, 'noticiero': False, 'investigador': False, 'hector': False, 'bringas': False, 'planton': False, 'cndh': False, 'proveedores': False, 'quiebra': False, 'contratos': False, 'fantasmas': False, 'feminicidios': False, 'cienfuegos': False, 'lanza': False, 'aficion': False, 'especialista': False, 'johns': False, 'base': False, 'calculando': False, 'fallecida': False, 'sabias': False, 'supuestos': False, 'eeuu': False, 'despierta': False, 'gilberto': False, 'lozano': False, 'hipertenso': False, 'infecta': False, 'acampar': False, 'exista': False, 'descabezamiento': False, 'afirma': False, 'doctora': False, 'mirian': False, 'esther': False, 'godot': False, 'motivos': False, 'encabezo': False, 'servirian': False, 'equipar': False, 'cuitlahuac': False, 'tirar': False, 'veracruzanos': False, 'hayprioridades': False, 'novotespormorena': False, 'domingos': False, 'bajan': False, 'viendo': False, 'nfl': False, 'maten': False, 'alcornoques': False, 'salva': False, 'agradecen': False, 'formar': False, 'confesion': False, 'sosten': False, 'deseptiembre': False, 'bastadeimpunidad': False, 'bastaya': False, 'bastadecorrupcion': False, 'ioam': False, 'iniciaran': False, 'ensayos': False, 'cancinobio': False, 'multilaterales': False, 'ddhh': False, 'imagennoticias': False, 'mapa': False, 'confunde': False, 'abiertamente': False, 'desestimo': False, 'tribunales': False, 'circulan': False, 'supuesto': False, 'enganan': False, 'aislados': False, 'agrego': False, 'considerando': False, 'presentamos': False, 'deficiente': False, 'concentrar': False, 'ascienden': False, 'aclaraste': False, 'companero': False, 'aumentado': False, 'pretenden': False, 'justificarlos': False, 'ofensivo': False, 'libraron': False, 'kagatell': False, 'extranjero': False, 'mergas': False, 'tomemos': False, 'expone': False, 'obligarme': False, 'aclarar': False, 'fidegarmeexponealcontagio': False, 'resumen': False, 'destinado': False, 'ejercieron': False, 'leysheinbaum': False, 'margen': False, 'lomavisto': False, 'funcion': False, 'minutos': False, 'realizar': False, 'investigacion': False, 'losperiodistas': False, 'impugna': False, 'leccion': False, 'completo': False, 'eu': False, 'aproximadamente': False, 'logico': False, 'duermes': False, 'oiga': False, 'pare': False, 'estupideces': False, 'siga': False, 'burlandose': False, 'difunda': False, 'infeccioso': False, 'amloenfermomental': False, 'reganon': False, 'contraria': False, 'conferenciacovid': False, 'vive': False, 'muchmencionTwitter': False, 'comerciales': False, 'dedico': False, 'boicotear': False, 'regresa': False, 'afectar': False, 'afectando': False, 'chihuahuense': False, 'descendiendo': False, 'desvie': False, 'loslopezasesinos': False, 'controlada': False, 'how': False, 'mexican': False, 'secretary': False, 'without': False, 'respecting': False, 'measures': False}\n"
          ],
          "name": "stdout"
        }
      ]
    },
    {
      "cell_type": "markdown",
      "metadata": {
        "id": "b1UnJhq7DKFe"
      },
      "source": [
        "Ahora, sí. Procesamos todos los tweets en un set de características basado en el diccionario que creamos. Este es la base que utilizaremos para entrenar y modificar nuestro modelo."
      ]
    },
    {
      "cell_type": "code",
      "metadata": {
        "id": "3yiKpV1mDJnS"
      },
      "source": [
        "set_caracteristicas = [(buscar_caracteristicas(text), sentiment) for (text, sentiment) in corpus]"
      ],
      "execution_count": null,
      "outputs": []
    },
    {
      "cell_type": "code",
      "metadata": {
        "id": "VhI7hTu3FINB"
      },
      "source": [
        "número_tweets = len(set_caracteristicas)\n",
        "# tomamos el número de Tweets y lo repartimos en 80% (en un entero)\n",
        "porcentaje_80 = int(round(len(set_caracteristicas)*.8, 0))\n",
        "# El set de entrenamiento, toma el primer 80% de la base\n",
        "set_entrenamiento = set_caracteristicas[:porcentaje_80]\n",
        "# El set para revisar el modelo toma el porcentaje restante\n",
        "set_prueba = set_caracteristicas[porcentaje_80:]"
      ],
      "execution_count": null,
      "outputs": []
    },
    {
      "cell_type": "markdown",
      "metadata": {
        "id": "WVb4nRLbF1Vj"
      },
      "source": [
        "En primer lugar, utilizaremos un modelo prehecho por nltk para clasificar nuestros tweets. Esto es tan fácil como entrenar el modelo."
      ]
    },
    {
      "cell_type": "code",
      "metadata": {
        "id": "bPMrtDc1F-4y"
      },
      "source": [
        "clasificador_NB = NaiveBayesClassifier.train(set_entrenamiento)"
      ],
      "execution_count": null,
      "outputs": []
    },
    {
      "cell_type": "markdown",
      "metadata": {
        "id": "pjbuFfybGM-0"
      },
      "source": [
        "Ya entrenado, revisamos su precision con nuestro set de prueba"
      ]
    },
    {
      "cell_type": "code",
      "metadata": {
        "colab": {
          "base_uri": "https://localhost:8080/"
        },
        "id": "U3NVLFXFGWWj",
        "outputId": "ef087b50-2421-4cc0-bbb6-73f596d50577"
      },
      "source": [
        "print(\"Precision porcentual del clasificador:\", str(round((classify.accuracy(clasificador_NB, set_prueba)) * 100, 2) )+ \"%\")"
      ],
      "execution_count": null,
      "outputs": [
        {
          "output_type": "stream",
          "text": [
            "Precision porcentual del clasificador: 90.93%\n"
          ],
          "name": "stdout"
        }
      ]
    },
    {
      "cell_type": "markdown",
      "metadata": {
        "id": "lblhdTgGGCHt"
      },
      "source": [
        "Dependiendo del orden de los tweets (dada la aleatorización) la precisión irá desde 60-80%. \n",
        "Nos ayuda más saber acerca de los valores predichos y las probabilides internas de nuestro modelo. Afortunadamente, nltk nos permite ver las características más informativas dentro de nuestro corpus."
      ]
    },
    {
      "cell_type": "code",
      "metadata": {
        "colab": {
          "base_uri": "https://localhost:8080/"
        },
        "id": "ZLeSQOEDGLLa",
        "outputId": "f7273cd2-2db2-4772-9f65-68c45983ce73"
      },
      "source": [
        "clasificador_NB.show_most_informative_features(15)"
      ],
      "execution_count": null,
      "outputs": [
        {
          "output_type": "stream",
          "text": [
            "Most Informative Features\n",
            "                criminal = True           negati : positi =     95.9 : 1.0\n",
            "                  carcel = True           negati : positi =     77.0 : 1.0\n",
            "                 liquido = True           negati : positi =     72.3 : 1.0\n",
            "                 fracaso = True           negati : positi =     68.3 : 1.0\n",
            "                 condesa = True           negati : positi =     62.2 : 1.0\n",
            "              distribuye = True           positi : negati =     61.8 : 1.0\n",
            "       medidassanitarias = True           positi : negati =     60.4 : 1.0\n",
            "                   paseo = True           positi : negati =     57.1 : 1.0\n",
            "                  olvide = True           negati : positi =     54.8 : 1.0\n",
            "                      fe = True           positi : negati =     51.8 : 1.0\n",
            "                     tio = True           negati : positi =     51.1 : 1.0\n",
            "                  gastar = True           positi : negati =     49.2 : 1.0\n",
            "                obesidad = True           negati : positi =     44.1 : 1.0\n",
            "                  abrazo = True           positi : negati =     43.9 : 1.0\n",
            "                  pesimo = True           negati : positi =     43.4 : 1.0\n"
          ],
          "name": "stdout"
        }
      ]
    },
    {
      "cell_type": "code",
      "metadata": {
        "colab": {
          "base_uri": "https://localhost:8080/"
        },
        "id": "B-kOos7IXwWC",
        "outputId": "26388acf-58b4-43f2-dfcf-2e1bf012b7ac"
      },
      "source": [
        "corpus_brutas = [(list(word_tokenize(text, language=\"spanish\")), sentiment)\n",
        "                 for sentiment, text in zip(tweets_covid[\"type\"], tweets_covid[\"text\"])]\n",
        "random.shuffle(corpus_brutas)\n",
        "\n",
        "todas_las_palabras_brutas = []\n",
        "for text,sentiment in corpus_brutas:\n",
        "    for w in text:  \n",
        "        if w not in stop_words_sp:\n",
        "            todas_las_palabras_brutas.append(w)\n",
        "todas_las_palabras_brutas = FreqDist(todas_las_palabras_brutas)\n",
        "\n",
        "print(todas_las_palabras_brutas.most_common(15))\n",
        "palabras_caracteristicas_brutas = list(todas_las_palabras_brutas.keys())[:5000]\n",
        "\n",
        "def buscar_caracteristicas_brutas(document):\n",
        "    palabras = set(document)\n",
        "    caracteristica = {}\n",
        "    for palabra in palabras_caracteristicas_brutas:\n",
        "        caracteristica[palabra] = (palabra in palabras)\n",
        "    return caracteristica\n",
        "\n",
        "set_caracteristicas_brutas = [(buscar_caracteristicas_brutas(text), sentiment) for (text, sentiment) in corpus_brutas]\n",
        "\n",
        "set_entrenamiento_brutas = set_caracteristicas_brutas[:porcentaje_80]\n",
        "set_prueba_brutas = set_caracteristicas_brutas[porcentaje_80:]\n",
        "clasificador_NB_brutas = NaiveBayesClassifier.train(set_entrenamiento_brutas)\n",
        "print(\"Precision porcentual del clasificador de raíces:\", (classify.accuracy(clasificador_NB_brutas, set_prueba_brutas)) * 100)\n",
        "clasificador_NB_brutas.show_most_informative_features(15)"
      ],
      "execution_count": null,
      "outputs": [
        {
          "output_type": "stream",
          "text": [
            "[('@', 38977), (',', 29495), ('#', 28428), ('.', 26639), (':', 17036), ('https', 13359), ('?', 11517), ('HLGatell', 9637), ('!', 7991), ('COVID19', 5015), ('El', 4182), ('COVID', 3178), ('lopezobrador_', 3135), ('México', 3029), ('distancia', 2425)]\n",
            "Precision porcentual del clasificador de raíces: 90.56818181818181\n",
            "Most Informative Features\n",
            "                    Hijo = True           positi : negati =    172.8 : 1.0\n",
            "              aplaudimos = True           positi : negati =    143.7 : 1.0\n",
            "                 Detente = True           positi : negati =    142.4 : 1.0\n",
            "             felicidades = True           positi : negati =    118.0 : 1.0\n",
            "                   Santo = True           positi : negati =    105.7 : 1.0\n",
            "                 ¡Juntos = True           positi : negati =    105.4 : 1.0\n",
            "                 Utiliza = True           positi : negati =     98.1 : 1.0\n",
            "                      Él = True           negati : positi =     97.9 : 1.0\n",
            "                Refuerza = True           positi : negati =     95.5 : 1.0\n",
            "                patients = True           positi : negati =     88.9 : 1.0\n",
            "                     had = True           positi : negati =     88.9 : 1.0\n",
            "                    only = True           positi : negati =     88.9 : 1.0\n",
            "                  cuidas = True           positi : negati =     88.2 : 1.0\n",
            "                   Jesús = True           positi : negati =     87.0 : 1.0\n",
            "               Centinela = True           positi : negati =     85.4 : 1.0\n"
          ],
          "name": "stdout"
        }
      ]
    },
    {
      "cell_type": "markdown",
      "metadata": {
        "id": "giRZ3AxXIEOU"
      },
      "source": [
        "Pero, podemos mejorarlo? podríamos intentar remover todos los acentos, por ejemplo, con unidecode..."
      ]
    },
    {
      "cell_type": "code",
      "metadata": {
        "colab": {
          "base_uri": "https://localhost:8080/"
        },
        "id": "LsudnrBjINFv",
        "outputId": "c78e1841-c303-4c43-c32d-6172933a427b"
      },
      "source": [
        "print(tweets_covid_limpia['text'][678023])\n",
        "print(unidecode.unidecode(tweets_covid_limpia['text'][678023]))"
      ],
      "execution_count": null,
      "outputs": [
        {
          "output_type": "stream",
          "text": [
            "mis respetos para mencionTwitter ayer día cerró en covid a tan sólo de hoy ha rebasado a reino unido en covid para ocupar el lugar mundial como resultado del trabajo sic de mencionTwitter con por de morenavirus mencionTwitter \n",
            "mis respetos para mencionTwitter ayer dia cerro en covid a tan solo de hoy ha rebasado a reino unido en covid para ocupar el lugar mundial como resultado del trabajo sic de mencionTwitter con por de morenavirus mencionTwitter \n"
          ],
          "name": "stdout"
        }
      ]
    },
    {
      "cell_type": "markdown",
      "metadata": {
        "id": "oZ68E_JrIhvu"
      },
      "source": [
        "O tal vez, nos ayude más lematizar el texto que significa encontrar las raices de las palabras. Esto ayuda mucho en lenguajes como el español, donde tenemos decensiones muy complejas. Ej:\n",
        "Comer -> Comía -> comíamos -> comida -> comidas"
      ]
    },
    {
      "cell_type": "code",
      "metadata": {
        "colab": {
          "base_uri": "https://localhost:8080/",
          "height": 214
        },
        "id": "IK2Cuo26I4Lr",
        "outputId": "b8cc323e-31ea-4f97-ea46-7c2f371577b7"
      },
      "source": [
        "stemmer = SnowballStemmer('spanish')\n",
        "for w in word_tokenize(texto):\n",
        "  if w not in stop_words_sp:\n",
        "    print(\"Original : \" +w.ljust(12)+ \" | Raiz: \"+stemmer.stem(w))"
      ],
      "execution_count": null,
      "outputs": [
        {
          "output_type": "error",
          "ename": "NameError",
          "evalue": "ignored",
          "traceback": [
            "\u001b[0;31m---------------------------------------------------------------------------\u001b[0m",
            "\u001b[0;31mNameError\u001b[0m                                 Traceback (most recent call last)",
            "\u001b[0;32m<ipython-input-1-c99dde75d384>\u001b[0m in \u001b[0;36m<module>\u001b[0;34m()\u001b[0m\n\u001b[0;32m----> 1\u001b[0;31m \u001b[0mstemmer\u001b[0m \u001b[0;34m=\u001b[0m \u001b[0mSnowballStemmer\u001b[0m\u001b[0;34m(\u001b[0m\u001b[0;34m'spanish'\u001b[0m\u001b[0;34m)\u001b[0m\u001b[0;34m\u001b[0m\u001b[0;34m\u001b[0m\u001b[0m\n\u001b[0m\u001b[1;32m      2\u001b[0m \u001b[0;32mfor\u001b[0m \u001b[0mw\u001b[0m \u001b[0;32min\u001b[0m \u001b[0mword_tokenize\u001b[0m\u001b[0;34m(\u001b[0m\u001b[0mtexto\u001b[0m\u001b[0;34m)\u001b[0m\u001b[0;34m:\u001b[0m\u001b[0;34m\u001b[0m\u001b[0;34m\u001b[0m\u001b[0m\n\u001b[1;32m      3\u001b[0m   \u001b[0;32mif\u001b[0m \u001b[0mw\u001b[0m \u001b[0;32mnot\u001b[0m \u001b[0;32min\u001b[0m \u001b[0mstop_words_sp\u001b[0m\u001b[0;34m:\u001b[0m\u001b[0;34m\u001b[0m\u001b[0;34m\u001b[0m\u001b[0m\n\u001b[1;32m      4\u001b[0m     \u001b[0mprint\u001b[0m\u001b[0;34m(\u001b[0m\u001b[0;34m\"Original : \"\u001b[0m \u001b[0;34m+\u001b[0m\u001b[0mw\u001b[0m\u001b[0;34m.\u001b[0m\u001b[0mljust\u001b[0m\u001b[0;34m(\u001b[0m\u001b[0;36m12\u001b[0m\u001b[0;34m)\u001b[0m\u001b[0;34m+\u001b[0m \u001b[0;34m\" | Raiz: \"\u001b[0m\u001b[0;34m+\u001b[0m\u001b[0mstemmer\u001b[0m\u001b[0;34m.\u001b[0m\u001b[0mstem\u001b[0m\u001b[0;34m(\u001b[0m\u001b[0mw\u001b[0m\u001b[0;34m)\u001b[0m\u001b[0;34m)\u001b[0m\u001b[0;34m\u001b[0m\u001b[0;34m\u001b[0m\u001b[0m\n",
            "\u001b[0;31mNameError\u001b[0m: name 'SnowballStemmer' is not defined"
          ]
        }
      ]
    },
    {
      "cell_type": "markdown",
      "metadata": {
        "id": "JBs-RZr0J9Mv"
      },
      "source": [
        "Repitamos todo nuestro clasificador, pero usando las raices de las palabras"
      ]
    },
    {
      "cell_type": "code",
      "metadata": {
        "colab": {
          "base_uri": "https://localhost:8080/"
        },
        "id": "wIU9XgCpJ8me",
        "outputId": "8a23fdd2-7ba9-46c4-aece-555244b2b963"
      },
      "source": [
        "todas_las_palabras_raiz = []\n",
        "for palabras, sentiment in corpus:\n",
        "  for w in palabras:\n",
        "    if w not in stop_words_sp:\n",
        "      todas_las_palabras_raiz.append(stemmer.stem(w))\n",
        "todas_las_palabras_raiz = FreqDist(todas_las_palabras_raiz)\n",
        "\n",
        "print(todas_las_palabras_raiz.most_common(15))\n",
        "palabras_caracteristicas_raiz = list(todas_las_palabras_raiz.keys())[:5000]\n",
        "\n",
        "def buscar_caracteristicas_raiz(document):\n",
        "    palabras = set(document)\n",
        "    caracteristica = {}\n",
        "    for palabra in palabras_caracteristicas_raiz:\n",
        "        caracteristica[palabra] = (palabra in palabras)\n",
        "    return caracteristica\n",
        "\n",
        "\n",
        "# print((find_features_stem(corpus.words('positivo_991.txt'))))\n",
        "set_caracteristicas_raiz = [(buscar_caracteristicas_raiz(text), sentiment) for (text, sentiment) in corpus]\n",
        "\n",
        "set_entrenamiento_raiz = set_caracteristicas_raiz[:porcentaje_80]\n",
        "set_prueba_raiz = set_caracteristicas_raiz[porcentaje_80:]\n",
        "clasificador_NB_raiz = NaiveBayesClassifier.train(set_entrenamiento_raiz)\n",
        "print(\"Precision porcentual del clasificador de raíces:\", (classify.accuracy(clasificador_NB_raiz, set_prueba_raiz)) * 100)\n",
        "clasificador_NB_raiz.show_most_informative_features(15)"
      ],
      "execution_count": null,
      "outputs": [
        {
          "output_type": "stream",
          "text": [
            "[('vacun', 4027), ('mexic', 3763), ('muert', 3718), ('covid-', 3714), ('emoji', 2900), ('salud', 2815), ('contagi', 2722), ('san', 2639), ('distanci', 2597), ('mil', 2468), ('cubreboc', 2454), ('gobern', 2238), ('pandemi', 2216), ('cas', 1994), ('hoy', 1905)]\n",
            "Precision porcentual del clasificador: 76.11363636363636\n",
            "Most Informative Features\n",
            "                criminal = True           negati : positi =     92.5 : 1.0\n",
            "                   among = True           positi : negati =     90.8 : 1.0\n",
            "                    xoax = True           positi : negati =     87.4 : 1.0\n",
            "                    only = True           positi : negati =     54.5 : 1.0\n",
            "                patients = True           positi : negati =     54.5 : 1.0\n",
            "                    died = True           positi : negati =     54.5 : 1.0\n",
            "                      fe = True           positi : negati =     53.0 : 1.0\n",
            "                     oye = True           negati : positi =     39.2 : 1.0\n",
            "                    peor = True           negati : positi =     35.8 : 1.0\n",
            "                 dijeron = True           negati : positi =     30.0 : 1.0\n",
            "                   vital = True           positi : negati =     29.4 : 1.0\n",
            "                     zoe = True           negati : positi =     28.6 : 1.0\n",
            "               estupidez = True           negati : positi =     26.0 : 1.0\n",
            "            fuerzagatell = True           positi : negati =     26.0 : 1.0\n",
            "         comentariofinal = True           negati : positi =     22.1 : 1.0\n"
          ],
          "name": "stdout"
        }
      ]
    },
    {
      "cell_type": "markdown",
      "metadata": {
        "id": "rLCWILMvOoev"
      },
      "source": [
        "¿Qué tal que queremos modificar los parámetros internos al modelo? Para eso están todos los algorítmos de scikitlearn. Los importamos rápidamente y verán lo fácil que es utilizar otros modelos."
      ]
    },
    {
      "cell_type": "code",
      "metadata": {
        "id": "50l_pCwFO1mk"
      },
      "source": [
        "from nltk.classify.scikitlearn import SklearnClassifier\n",
        "from sklearn.naive_bayes import MultinomialNB,BernoulliNB"
      ],
      "execution_count": null,
      "outputs": []
    },
    {
      "cell_type": "code",
      "metadata": {
        "colab": {
          "base_uri": "https://localhost:8080/"
        },
        "id": "Fs2FrELyPA2G",
        "outputId": "901a5b32-31ff-493a-8981-3301e4f497fe"
      },
      "source": [
        "MNB_classifier = SklearnClassifier(MultinomialNB())\n",
        "MNB_classifier.train(set_entrenamiento)\n",
        "print(\"Precision porcentual del clasificador Multinomial:\",nltk.classify.accuracy(MNB_classifier, set_prueba)* 100)\n",
        "\n",
        "BNB_classifier = SklearnClassifier(BernoulliNB())\n",
        "BNB_classifier.train(set_entrenamiento)\n",
        "print(\"Precision porcentual del clasificador de Bernoulli:\",nltk.classify.accuracy(BNB_classifier, set_prueba)* 100)"
      ],
      "execution_count": null,
      "outputs": [
        {
          "output_type": "stream",
          "text": [
            "Precision porcentual del clasificador Multinomial: 0.8888636363636364\n",
            "Precision porcentual del clasificador de Bernoulli: 0.8854545454545455\n"
          ],
          "name": "stdout"
        }
      ]
    },
    {
      "cell_type": "markdown",
      "metadata": {
        "id": "4X3sjv5NP9yx"
      },
      "source": [
        "¿Recuerdan el factor de Laplace? Este nos permite ajustar las probabilidades especialmente para aquellas caracteristicas que son inusuales. Aquí podemos modificar el "
      ]
    },
    {
      "cell_type": "code",
      "metadata": {
        "colab": {
          "base_uri": "https://localhost:8080/"
        },
        "id": "Qb9YeZx-P75g",
        "outputId": "6695b2d0-a288-4dfb-b253-37de95c218e4"
      },
      "source": [
        "MNB_classifier = SklearnClassifier(MultinomialNB(alpha = 5))\n",
        "MNB_classifier.train(set_entrenamiento)\n",
        "print(\"Precision porcentual del clasificador Multinomial:\",nltk.classify.accuracy(MNB_classifier, set_prueba)* 100)\n",
        "\n",
        "BNB_classifier = SklearnClassifier(BernoulliNB(alpha = 5))\n",
        "BNB_classifier.train(set_entrenamiento)\n",
        "print(\"Precision porcentual del clasificador de Bernoulli:\",nltk.classify.accuracy(BNB_classifier, set_prueba)* 100)"
      ],
      "execution_count": null,
      "outputs": [
        {
          "output_type": "stream",
          "text": [
            "Precision porcentual del clasificador Multinomial: 87.59090909090908\n",
            "Precision porcentual del clasificador de Bernoulli: 87.56818181818183\n"
          ],
          "name": "stdout"
        }
      ]
    },
    {
      "cell_type": "code",
      "metadata": {
        "colab": {
          "base_uri": "https://localhost:8080/"
        },
        "id": "sLktTUQLUcp6",
        "outputId": "e1c4a5ad-f582-432c-93c3-c04557fe6535"
      },
      "source": [
        "MNB_classifier = SklearnClassifier(MultinomialNB(alpha = 5))\n",
        "MNB_classifier.train(set_entrenamiento_raiz)\n",
        "print(\"Precision porcentual del clasificador Multinomial raiz:\",nltk.classify.accuracy(MNB_classifier, set_prueba_raiz)* 100)\n",
        "\n",
        "BNB_classifier = SklearnClassifier(BernoulliNB(alpha = 5))\n",
        "BNB_classifier.train(set_entrenamiento_raiz)\n",
        "print(\"Precision porcentual del clasificador de Bernoulli raiz:\",nltk.classify.accuracy(BNB_classifier, set_prueba_raiz)* 100)"
      ],
      "execution_count": null,
      "outputs": [
        {
          "output_type": "stream",
          "text": [
            "Precision porcentual del clasificador Multinomial raiz: 73.86363636363636\n",
            "Precision porcentual del clasificador de Bernoulli raiz: 75.56818181818183\n"
          ],
          "name": "stdout"
        }
      ]
    },
    {
      "cell_type": "code",
      "metadata": {
        "colab": {
          "base_uri": "https://localhost:8080/"
        },
        "id": "9hvEGcK_RZ1f",
        "outputId": "43d61b88-a434-44d0-fd96-423641148ecd"
      },
      "source": [
        "n = 7\n",
        "class_labels = MNB_classifier._clf.classes_\n",
        "feature_names = MNB_classifier._vectorizer.get_feature_names()\n",
        "topn_class1 = sorted(zip(MNB_classifier._clf.coef_[0], feature_names))[:n]\n",
        "topn_class2 = sorted(zip(MNB_classifier._clf.coef_[0], feature_names))[-n:]\n",
        "for coef, feat in topn_class1:\n",
        "    print( class_labels[0], coef, feat)\n",
        "print\n",
        "for coef, feat in reversed(topn_class2):\n",
        "    print( class_labels[1], coef, feat)"
      ],
      "execution_count": null,
      "outputs": [
        {
          "output_type": "stream",
          "text": [
            "0 -9.290241531170668 'catastrof\n",
            "0 -9.290241531170668 'covidtrans\n",
            "0 -9.290241531170668 *calderon\n",
            "0 -9.290241531170668 *consult\n",
            "0 -9.290241531170668 *epn\n",
            "0 -9.290241531170668 *lozoy\n",
            "0 -9.290241531170668 -felic\n",
            "1 -2.088772407505031 de\n",
            "1 -3.126926727136026 del\n",
            "1 -3.607342267430891 se\n",
            "1 -3.705993625209656 covid-\n",
            "1 -3.7357327592622207 salud\n",
            "1 -4.127743887765166 emoji\n",
            "1 -4.232722651175561 hoy\n"
          ],
          "name": "stdout"
        }
      ]
    }
  ]
}